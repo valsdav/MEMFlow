{
 "cells": [
  {
   "cell_type": "code",
   "execution_count": 1,
   "id": "0b1f566d-075c-426b-b55a-886b4a661838",
   "metadata": {
    "tags": []
   },
   "outputs": [],
   "source": [
    "import torch\n",
    "from torch.utils.data import DataLoader\n",
    "import matplotlib.pyplot as plt\n",
    "import numpy as np\n",
    "#import mdmm\n",
    "from torch import optim\n",
    "\n",
    "from torch import nn\n",
    "\n",
    "import zuko\n",
    "from zuko.flows import TransformModule, SimpleAffineTransform\n",
    "from zuko.distributions import BoxUniform\n",
    "from zuko.distributions import DiagNormal\n",
    "from memflow.unfolding_flow.utils import Compute_ParticlesTensor as particle_tools\n"
   ]
  },
  {
   "cell_type": "code",
   "execution_count": 2,
   "id": "038f2902-d6cf-4055-9a43-1e645f2c48c2",
   "metadata": {
    "tags": []
   },
   "outputs": [],
   "source": [
    "from memflow.read_data import dataset_all"
   ]
  },
  {
   "cell_type": "code",
   "execution_count": 3,
   "id": "b120429d-d731-4223-b1e2-bbfebc8e92c2",
   "metadata": {
    "tags": []
   },
   "outputs": [],
   "source": [
    "device = torch.device('cuda' if torch.cuda.is_available() else 'cpu')\n",
    "#device = torch.device('cpu')\n",
    "#root_lxplus = '/eos/user/a/adpetre/www/ttHbbAnalysis/training_dataset/v3_sig_forTrainingDataset/all_jets_fullRun2_ttHbb_forTraining_allyears_spanetprov_part1_train.parquet'\n",
    "#root =\"/work/adpetre/datasets/dataset_part1\"\n",
    "root_lxplus = '/eos/user/a/adpetre/www/ttHbbAnalysis/training_dataset/v3_sig_forTrainingDataset/all_jets_fullRun2_ttHbb_forTraining_allyears_spanetprov_part1_validation.parquet'\n"
   ]
  },
  {
   "cell_type": "code",
   "execution_count": 4,
   "id": "6da177ab-6536-427d-a251-ee5fe26d96d4",
   "metadata": {
    "tags": []
   },
   "outputs": [
    {
     "name": "stdout",
     "output_type": "stream",
     "text": [
      ">>Loading datasets\n",
      "Loading partons in LAB\n",
      "PartonLevel LAB\n",
      "Reading parton_level Files\n",
      "Load logScaled_data_higgs_t_tbar_ISR\n",
      "Parton: Move tensors to device (cuda) memory\n",
      "Loading reco in LAB\n",
      "RecoLevel LAB\n",
      "Reading reco_level Files\n",
      "Load recoParticles\n",
      "Load scaledLogRecoParticles\n",
      "Reco: Move tensors to device (cuda) memory\n",
      "Loaded datasets:  ['partons_lab', 'reco_lab']\n"
     ]
    }
   ],
   "source": [
    "data = dataset_all.DatasetCombined(root_lxplus, dtype=torch.float64, dev=device, datasets=[\"partons_lab\", \"reco_lab\"],\n",
    "                                    reco_list_lab=['recoParticles',\n",
    "                                                'scaledLogRecoParticles', 'mask_lepton',\n",
    "                                                'mask_jets','mask_met',\n",
    "                                                'mask_boost', 'data_boost'],\n",
    "                                    parton_list_lab=['logScaled_data_higgs_t_tbar_ISR',\n",
    "                                                 'flattening_weight_HEta_tHadEta_tLepEta'])"
   ]
  },
  {
   "cell_type": "code",
   "execution_count": 14,
   "id": "27ac1121",
   "metadata": {
    "tags": []
   },
   "outputs": [
    {
     "name": "stdout",
     "output_type": "stream",
     "text": [
      "torch.Size([128, 18, 8])\n",
      "torch.Size([128, 18])\n",
      "torch.Size([128, 4, 3])\n",
      "True\n"
     ]
    }
   ],
   "source": [
    "No_ev = 128\n",
    "\n",
    "scaledLogReco = data.reco_lab.scaledLogRecoParticles[0:No_ev]\n",
    "scaledLogParton = data.partons_lab.logScaled_data_higgs_t_tbar_ISR[0:No_ev]\n",
    "maskJets = data.reco_lab.mask_jets[0:No_ev]\n",
    "maskLepton = data.reco_lab.mask_lepton[0:No_ev]\n",
    "maskMET = data.reco_lab.mask_met[0:No_ev]\n",
    "\n",
    "boostReco = data.reco_lab.data_boost[0:No_ev]\n",
    "maskBoost = data.reco_lab.mask_boost[0:No_ev]\n",
    "\n",
    "maskedReco = torch.cat((maskJets, maskLepton, maskMET), dim=1)\n",
    "\n",
    "scaledJets = scaledLogReco[:,:16]\n",
    "leptonMET = scaledLogReco[:,16:]\n",
    "\n",
    "print(scaledLogReco.shape)\n",
    "print(maskedReco.shape)\n",
    "print(scaledLogParton.shape)\n",
    "print(scaledLogReco.is_cuda)\n",
    "\n",
    "# ordering is not needed cuz jets are already ordered by pt"
   ]
  },
  {
   "cell_type": "code",
   "execution_count": 6,
   "id": "9e3ec39d-c503-43d0-afd1-2d7544debd86",
   "metadata": {
    "tags": []
   },
   "outputs": [
    {
     "ename": "TypeError",
     "evalue": "can't convert cuda:0 device type tensor to numpy. Use Tensor.cpu() to copy the tensor to host memory first.",
     "output_type": "error",
     "traceback": [
      "\u001b[0;31m---------------------------------------------------------------------------\u001b[0m",
      "\u001b[0;31mTypeError\u001b[0m                                 Traceback (most recent call last)",
      "Cell \u001b[0;32mIn[6], line 4\u001b[0m\n\u001b[1;32m      1\u001b[0m \u001b[38;5;66;03m# check pt statistics \u001b[39;00m\n\u001b[1;32m      3\u001b[0m scaledLogReco \u001b[38;5;241m=\u001b[39m data\u001b[38;5;241m.\u001b[39mreco_lab\u001b[38;5;241m.\u001b[39mrecoParticles\n\u001b[0;32m----> 4\u001b[0m pt_jets \u001b[38;5;241m=\u001b[39m \u001b[43mscaledLogReco\u001b[49m\u001b[43m[\u001b[49m\u001b[43m:\u001b[49m\u001b[43m,\u001b[49m\u001b[43m:\u001b[49m\u001b[38;5;241;43m16\u001b[39;49m\u001b[43m,\u001b[49m\u001b[38;5;241;43m0\u001b[39;49m\u001b[43m]\u001b[49m\u001b[38;5;241;43m.\u001b[39;49m\u001b[43mnumpy\u001b[49m\u001b[43m(\u001b[49m\u001b[43m)\u001b[49m\u001b[38;5;241m.\u001b[39mflatten()\n\u001b[1;32m      6\u001b[0m plt\u001b[38;5;241m.\u001b[39mhist(pt_jets, bins\u001b[38;5;241m=\u001b[39m[\u001b[38;5;241m5\u001b[39m, \u001b[38;5;241m50\u001b[39m, \u001b[38;5;241m75\u001b[39m, \u001b[38;5;241m100\u001b[39m, \u001b[38;5;241m150\u001b[39m, \u001b[38;5;241m200\u001b[39m, \u001b[38;5;241m300\u001b[39m, \u001b[38;5;241m1500\u001b[39m])\n\u001b[1;32m      7\u001b[0m plt\u001b[38;5;241m.\u001b[39mxlabel(\u001b[38;5;124m'\u001b[39m\u001b[38;5;124mpT\u001b[39m\u001b[38;5;124m'\u001b[39m)\n",
      "\u001b[0;31mTypeError\u001b[0m: can't convert cuda:0 device type tensor to numpy. Use Tensor.cpu() to copy the tensor to host memory first."
     ]
    }
   ],
   "source": [
    "# check pt statistics \n",
    "\n",
    "scaledLogReco = data.reco_lab.recoParticles\n",
    "pt_jets = scaledLogReco[:,:16,0].numpy().flatten()\n",
    "\n",
    "plt.hist(pt_jets, bins=[5, 50, 75, 100, 150, 200, 300, 1500])\n",
    "plt.xlabel('pT')"
   ]
  },
  {
   "cell_type": "code",
   "execution_count": 6,
   "id": "c060394d",
   "metadata": {},
   "outputs": [
    {
     "name": "stdout",
     "output_type": "stream",
     "text": [
      "tensor([1., 1., 1., 1., 1., 1., 1., 0., 0., 0., 0., 0., 0., 0., 0., 0.])\n",
      "tensor([ 0,  1,  2,  3,  7,  8,  9, 10, 11, 12, 13, 14, 15,  4,  5,  6])\n",
      "tensor([ 2.0397,  0.9433,  0.2977,  0.2543,  0.0000,  0.0000,  0.0000,  0.0000,\n",
      "         0.0000,  0.0000,  0.0000,  0.0000,  0.0000, -0.5110, -1.3750, -1.3766])\n",
      "torch.Size([10000, 16, 8])\n",
      "torch.Size([10000, 16])\n",
      "torch.Size([10000, 16, 1])\n",
      "tensor([1., 1., 1., 1., 1., 1., 1., 0., 0., 0., 0., 0., 0., 0., 0., 0.])\n",
      "[2.370302438735962 1.9843720197677612 1.88614821434021 -0.176679790019989\n",
      " -0.3284093141555786 -0.36130616068840027 -0.3630555272102356\n",
      " -1.2532942295074463 -1.4020713567733765 -1.454121708869934 -- -- -- -- --\n",
      " --]\n"
     ]
    }
   ],
   "source": [
    "indices = torch.argsort(scaledJets[:,:,0], dim=1, descending=True)\n",
    "print(maskJets[0])\n",
    "print(indices[0])\n",
    "print(scaledJets[0, indices[0], 0])\n",
    "\n",
    "print(scaledJets.shape)\n",
    "\n",
    "maskJets_newDim = maskJets[..., np.newaxis]\n",
    "print(maskJets.shape)\n",
    "print(maskJets_newDim.shape)\n",
    "\n",
    "print(maskJets[0])\n",
    "\n",
    "masked_b = np.ma.masked_array(*np.broadcast_arrays(scaledJets, np.logical_not(maskJets_newDim)))\n",
    "\n",
    "print(masked_b[4,:,0])"
   ]
  },
  {
   "cell_type": "markdown",
   "id": "895b613b",
   "metadata": {},
   "source": [
    "# transformer encoder-decoder"
   ]
  },
  {
   "cell_type": "code",
   "execution_count": 14,
   "id": "7d937b59",
   "metadata": {},
   "outputs": [],
   "source": [
    "dtype = torch.float\n",
    "input_features = [8, 3]\n",
    "transformer_model = nn.Transformer(d_model=64,\n",
    "                                   nhead=4,\n",
    "                                   num_encoder_layers=3,\n",
    "                                   num_decoder_layers=3,\n",
    "                                   dim_feedforward=64,\n",
    "                                   activation=nn.GELU(),\n",
    "                                   batch_first=True)\n",
    "\n",
    "linearDNN_reco = nn.Linear(in_features=8, out_features=64)\n",
    "linearDNN_parton = nn.Linear(in_features=3, out_features=64)\n",
    "linearDNN_boost = nn.Linear(in_features=4, out_features=64)\n",
    "gelu = nn.GELU()"
   ]
  },
  {
   "cell_type": "code",
   "execution_count": 15,
   "id": "c10dbb7a",
   "metadata": {},
   "outputs": [],
   "source": [
    "scaledLogReco_afterLin = gelu(linearDNN_reco(scaledLogReco) * maskedReco[..., None])\n",
    "scaledLogParton_afterLin = gelu(linearDNN_parton(scaledLogParton))\n",
    "boost_afterLin = gelu(linearDNN_boost(boostReco) * maskBoost[..., None])"
   ]
  },
  {
   "cell_type": "code",
   "execution_count": 16,
   "id": "85d15806",
   "metadata": {},
   "outputs": [
    {
     "name": "stdout",
     "output_type": "stream",
     "text": [
      "torch.Size([10000, 18, 64])\n",
      "torch.Size([10000, 4, 64])\n",
      "torch.Size([10000, 1, 64])\n"
     ]
    }
   ],
   "source": [
    "print(scaledLogReco_afterLin.shape)\n",
    "print(scaledLogParton_afterLin.shape)\n",
    "print(boost_afterLin.shape)"
   ]
  },
  {
   "cell_type": "code",
   "execution_count": 17,
   "id": "6e14c269",
   "metadata": {},
   "outputs": [],
   "source": [
    "scaledLogReco_withBoost_afterLin = torch.cat((scaledLogReco_afterLin, boost_afterLin), dim=1)\n",
    "output_decoder1 = transformer_model(scaledLogParton_afterLin, scaledLogReco_afterLin)"
   ]
  },
  {
   "cell_type": "code",
   "execution_count": 24,
   "id": "6f774b23",
   "metadata": {},
   "outputs": [
    {
     "ename": "TypeError",
     "evalue": "Transformer.forward() got an unexpected keyword argument 'tgt_is_causal'",
     "output_type": "error",
     "traceback": [
      "\u001b[0;31m---------------------------------------------------------------------------\u001b[0m",
      "\u001b[0;31mTypeError\u001b[0m                                 Traceback (most recent call last)",
      "Cell \u001b[0;32mIn[24], line 10\u001b[0m\n\u001b[1;32m      1\u001b[0m transformer_model \u001b[38;5;241m=\u001b[39m nn\u001b[38;5;241m.\u001b[39mTransformer(d_model\u001b[38;5;241m=\u001b[39m\u001b[38;5;241m64\u001b[39m,\n\u001b[1;32m      2\u001b[0m                                    nhead\u001b[38;5;241m=\u001b[39m\u001b[38;5;241m4\u001b[39m,\n\u001b[1;32m      3\u001b[0m                                    num_encoder_layers\u001b[38;5;241m=\u001b[39m\u001b[38;5;241m3\u001b[39m,\n\u001b[0;32m   (...)\u001b[0m\n\u001b[1;32m      6\u001b[0m                                    activation\u001b[38;5;241m=\u001b[39mnn\u001b[38;5;241m.\u001b[39mGELU(),\n\u001b[1;32m      7\u001b[0m                                    batch_first\u001b[38;5;241m=\u001b[39m\u001b[38;5;28;01mTrue\u001b[39;00m)\n\u001b[1;32m      9\u001b[0m tgt_mask \u001b[38;5;241m=\u001b[39m transformer_model\u001b[38;5;241m.\u001b[39mgenerate_square_subsequent_mask(scaledLogReco_afterLin\u001b[38;5;241m.\u001b[39msize(\u001b[38;5;241m1\u001b[39m))\n\u001b[0;32m---> 10\u001b[0m output_decoder2 \u001b[38;5;241m=\u001b[39m \u001b[43mtransformer_model\u001b[49m\u001b[43m(\u001b[49m\u001b[43mscaledLogParton_afterLin\u001b[49m\u001b[43m,\u001b[49m\u001b[43m \u001b[49m\u001b[43mscaledLogReco_afterLin\u001b[49m\u001b[43m,\u001b[49m\u001b[43m \u001b[49m\u001b[43mtgt_is_causal\u001b[49m\u001b[38;5;241;43m=\u001b[39;49m\u001b[38;5;28;43;01mTrue\u001b[39;49;00m\u001b[43m)\u001b[49m\n\u001b[1;32m     11\u001b[0m output_decoder3 \u001b[38;5;241m=\u001b[39m transformer_model(scaledLogParton_afterLin, scaledLogReco_afterLin, tgt_mask\u001b[38;5;241m=\u001b[39mtgt_mask)\n",
      "File \u001b[0;32m/work/adpetre/miniconda3/envs/dizertatie/lib/python3.11/site-packages/torch/nn/modules/module.py:1194\u001b[0m, in \u001b[0;36mModule._call_impl\u001b[0;34m(self, *input, **kwargs)\u001b[0m\n\u001b[1;32m   1190\u001b[0m \u001b[38;5;66;03m# If we don't have any hooks, we want to skip the rest of the logic in\u001b[39;00m\n\u001b[1;32m   1191\u001b[0m \u001b[38;5;66;03m# this function, and just call forward.\u001b[39;00m\n\u001b[1;32m   1192\u001b[0m \u001b[38;5;28;01mif\u001b[39;00m \u001b[38;5;129;01mnot\u001b[39;00m (\u001b[38;5;28mself\u001b[39m\u001b[38;5;241m.\u001b[39m_backward_hooks \u001b[38;5;129;01mor\u001b[39;00m \u001b[38;5;28mself\u001b[39m\u001b[38;5;241m.\u001b[39m_forward_hooks \u001b[38;5;129;01mor\u001b[39;00m \u001b[38;5;28mself\u001b[39m\u001b[38;5;241m.\u001b[39m_forward_pre_hooks \u001b[38;5;129;01mor\u001b[39;00m _global_backward_hooks\n\u001b[1;32m   1193\u001b[0m         \u001b[38;5;129;01mor\u001b[39;00m _global_forward_hooks \u001b[38;5;129;01mor\u001b[39;00m _global_forward_pre_hooks):\n\u001b[0;32m-> 1194\u001b[0m     \u001b[38;5;28;01mreturn\u001b[39;00m \u001b[43mforward_call\u001b[49m\u001b[43m(\u001b[49m\u001b[38;5;241;43m*\u001b[39;49m\u001b[38;5;28;43minput\u001b[39;49m\u001b[43m,\u001b[49m\u001b[43m \u001b[49m\u001b[38;5;241;43m*\u001b[39;49m\u001b[38;5;241;43m*\u001b[39;49m\u001b[43mkwargs\u001b[49m\u001b[43m)\u001b[49m\n\u001b[1;32m   1195\u001b[0m \u001b[38;5;66;03m# Do not call functions when jit is used\u001b[39;00m\n\u001b[1;32m   1196\u001b[0m full_backward_hooks, non_full_backward_hooks \u001b[38;5;241m=\u001b[39m [], []\n",
      "\u001b[0;31mTypeError\u001b[0m: Transformer.forward() got an unexpected keyword argument 'tgt_is_causal'"
     ]
    }
   ],
   "source": [
    "transformer_model = nn.Transformer(d_model=64,\n",
    "                                   nhead=4,\n",
    "                                   num_encoder_layers=3,\n",
    "                                   num_decoder_layers=3,\n",
    "                                   dim_feedforward=128,\n",
    "                                   activation=nn.GELU(),\n",
    "                                   batch_first=True)\n",
    "\n",
    "tgt_mask = transformer_model.generate_square_subsequent_mask(scaledLogReco_afterLin.size(1))\n",
    "#output_decoder2 = transformer_model(scaledLogParton_afterLin, scaledLogReco_afterLin, tgt_is_causal=True)\n",
    "output_decoder3 = transformer_model(scaledLogParton_afterLin, scaledLogReco_afterLin, tgt_mask=tgt_mask)\n"
   ]
  },
  {
   "cell_type": "code",
   "execution_count": 23,
   "id": "055ce8de",
   "metadata": {},
   "outputs": [
    {
     "name": "stdout",
     "output_type": "stream",
     "text": [
      "tensor([[0., -inf, -inf, -inf, -inf, -inf, -inf, -inf, -inf, -inf, -inf, -inf, -inf, -inf, -inf, -inf, -inf, -inf],\n",
      "        [0., 0., -inf, -inf, -inf, -inf, -inf, -inf, -inf, -inf, -inf, -inf, -inf, -inf, -inf, -inf, -inf, -inf],\n",
      "        [0., 0., 0., -inf, -inf, -inf, -inf, -inf, -inf, -inf, -inf, -inf, -inf, -inf, -inf, -inf, -inf, -inf],\n",
      "        [0., 0., 0., 0., -inf, -inf, -inf, -inf, -inf, -inf, -inf, -inf, -inf, -inf, -inf, -inf, -inf, -inf],\n",
      "        [0., 0., 0., 0., 0., -inf, -inf, -inf, -inf, -inf, -inf, -inf, -inf, -inf, -inf, -inf, -inf, -inf],\n",
      "        [0., 0., 0., 0., 0., 0., -inf, -inf, -inf, -inf, -inf, -inf, -inf, -inf, -inf, -inf, -inf, -inf],\n",
      "        [0., 0., 0., 0., 0., 0., 0., -inf, -inf, -inf, -inf, -inf, -inf, -inf, -inf, -inf, -inf, -inf],\n",
      "        [0., 0., 0., 0., 0., 0., 0., 0., -inf, -inf, -inf, -inf, -inf, -inf, -inf, -inf, -inf, -inf],\n",
      "        [0., 0., 0., 0., 0., 0., 0., 0., 0., -inf, -inf, -inf, -inf, -inf, -inf, -inf, -inf, -inf],\n",
      "        [0., 0., 0., 0., 0., 0., 0., 0., 0., 0., -inf, -inf, -inf, -inf, -inf, -inf, -inf, -inf],\n",
      "        [0., 0., 0., 0., 0., 0., 0., 0., 0., 0., 0., -inf, -inf, -inf, -inf, -inf, -inf, -inf],\n",
      "        [0., 0., 0., 0., 0., 0., 0., 0., 0., 0., 0., 0., -inf, -inf, -inf, -inf, -inf, -inf],\n",
      "        [0., 0., 0., 0., 0., 0., 0., 0., 0., 0., 0., 0., 0., -inf, -inf, -inf, -inf, -inf],\n",
      "        [0., 0., 0., 0., 0., 0., 0., 0., 0., 0., 0., 0., 0., 0., -inf, -inf, -inf, -inf],\n",
      "        [0., 0., 0., 0., 0., 0., 0., 0., 0., 0., 0., 0., 0., 0., 0., -inf, -inf, -inf],\n",
      "        [0., 0., 0., 0., 0., 0., 0., 0., 0., 0., 0., 0., 0., 0., 0., 0., -inf, -inf],\n",
      "        [0., 0., 0., 0., 0., 0., 0., 0., 0., 0., 0., 0., 0., 0., 0., 0., 0., -inf],\n",
      "        [0., 0., 0., 0., 0., 0., 0., 0., 0., 0., 0., 0., 0., 0., 0., 0., 0., 0.]])\n"
     ]
    }
   ],
   "source": [
    "print(tgt_mask)"
   ]
  },
  {
   "cell_type": "markdown",
   "id": "1f817378",
   "metadata": {},
   "source": [
    "# Initialize flow"
   ]
  },
  {
   "cell_type": "code",
   "execution_count": 12,
   "id": "d05c42d6",
   "metadata": {},
   "outputs": [
    {
     "name": "stdout",
     "output_type": "stream",
     "text": [
      "torch.Size([10000, 18, 64])\n",
      "torch.Size([10000, 18, 8])\n"
     ]
    }
   ],
   "source": [
    "print(output_decoder.shape)\n",
    "print(scaledLogReco.shape)"
   ]
  },
  {
   "cell_type": "code",
   "execution_count": 6,
   "id": "9d125a20",
   "metadata": {},
   "outputs": [
    {
     "ename": "NameError",
     "evalue": "name 'output_decoder' is not defined",
     "output_type": "error",
     "traceback": [
      "\u001b[0;31m---------------------------------------------------------------------------\u001b[0m",
      "\u001b[0;31mNameError\u001b[0m                                 Traceback (most recent call last)",
      "Cell \u001b[0;32mIn[6], line 18\u001b[0m\n\u001b[1;32m      6\u001b[0m flow \u001b[38;5;241m=\u001b[39m zuko\u001b[38;5;241m.\u001b[39mflows\u001b[38;5;241m.\u001b[39mNSF(features\u001b[38;5;241m=\u001b[39mflow_nfeatures,\n\u001b[1;32m      7\u001b[0m                       context\u001b[38;5;241m=\u001b[39mflow_ncond, \n\u001b[1;32m      8\u001b[0m                       transforms\u001b[38;5;241m=\u001b[39m\u001b[38;5;241m2\u001b[39m, \n\u001b[0;32m   (...)\u001b[0m\n\u001b[1;32m     14\u001b[0m                       univariate_kwargs\u001b[38;5;241m=\u001b[39m{\u001b[38;5;124m\"\u001b[39m\u001b[38;5;124mbound\u001b[39m\u001b[38;5;124m\"\u001b[39m: \u001b[38;5;241m1\u001b[39m }, \u001b[38;5;66;03m# Keeping the flow in the [-B,B] box.\u001b[39;00m\n\u001b[1;32m     15\u001b[0m                       passes\u001b[38;5;241m=\u001b[39m \u001b[38;5;241m2\u001b[39m \u001b[38;5;28;01mif\u001b[39;00m \u001b[38;5;129;01mnot\u001b[39;00m flow_autoregressive \u001b[38;5;28;01melse\u001b[39;00m flow_nfeatures)\n\u001b[1;32m     17\u001b[0m \u001b[38;5;28;01mfor\u001b[39;00m \u001b[38;5;28mobject\u001b[39m \u001b[38;5;129;01min\u001b[39;00m \u001b[38;5;28mrange\u001b[39m(no_objects):\n\u001b[0;32m---> 18\u001b[0m     x \u001b[38;5;241m=\u001b[39m flow(\u001b[43moutput_decoder\u001b[49m[:,\u001b[38;5;28mobject\u001b[39m])\u001b[38;5;241m.\u001b[39mlog_prob(scaledLogReco[:,\u001b[38;5;28mobject\u001b[39m]) \u001b[38;5;66;03m# i will want to add the boost in the target too\u001b[39;00m\n",
      "\u001b[0;31mNameError\u001b[0m: name 'output_decoder' is not defined"
     ]
    }
   ],
   "source": [
    "flow_nfeatures = 8\n",
    "flow_ncond = 64\n",
    "no_objects = 18\n",
    "flow_autoregressive = True\n",
    "\n",
    "flow = zuko.flows.NSF(features=flow_nfeatures,\n",
    "                      context=flow_ncond, \n",
    "                      transforms=2, \n",
    "                      bins=10, \n",
    "                      hidden_features=[3]*64, \n",
    "                      randperm=False,\n",
    "                      base=DiagNormal,\n",
    "                      base_args=[torch.ones(flow_nfeatures)*0, torch.ones(flow_nfeatures)*0.25],\n",
    "                      univariate_kwargs={\"bound\": 1 }, # Keeping the flow in the [-B,B] box.\n",
    "                      passes= 2 if not flow_autoregressive else flow_nfeatures)\n",
    "\n",
    "for object in range(no_objects):\n",
    "    x = flow(output_decoder[:,object]).log_prob(scaledLogReco[:,object]) # i will want to add the boost in the target too"
   ]
  },
  {
   "cell_type": "code",
   "execution_count": 50,
   "id": "9f04dfbd",
   "metadata": {
    "tags": []
   },
   "outputs": [],
   "source": [
    "import torch.nn as nn\n",
    "import torch\n",
    "import numpy as np\n",
    "import utils\n",
    "from memflow.unfolding_network.conditional_transformer import ConditioningTransformerLayer\n",
    "import zuko\n",
    "from zuko.flows import TransformModule, SimpleAffineTransform\n",
    "from zuko.distributions import BoxUniform\n",
    "from zuko.distributions import DiagNormal\n",
    "from memflow.unfolding_flow.utils import Compute_ParticlesTensor as particle_tools\n",
    "import memflow.phasespace.utils as ps_utils\n",
    "\n",
    "class TransferFlow(nn.Module):\n",
    "    def __init__(self,\n",
    "                 no_recoVars, no_partonVars,\n",
    "                 \n",
    "                 transformer_input_features=64,\n",
    "                 transformer_nhead=8,\n",
    "                 transformer_num_encoder_layers=4,\n",
    "                 transformer_num_decoder_layers=4,\n",
    "                 transformer_dim_feedforward=128,\n",
    "                 transformer_activation=nn.GELU(),\n",
    "                 \n",
    "                 flow_nfeatures=12,\n",
    "                 flow_ntransforms=5,\n",
    "                 flow_hiddenMLP_NoLayers=4,\n",
    "                 flow_hiddenMLP_LayerDim=128,\n",
    "                 flow_bins=16,\n",
    "                 flow_autoregressive=True,\n",
    "                 flow_base=BoxUniform,\n",
    "                 flow_base_first_arg=-1,\n",
    "                 flow_base_second_arg=1,\n",
    "                 flow_bound=1.,\n",
    "                 randPerm=False,\n",
    "                 no_max_objects=10,\n",
    "                 \n",
    "                 device=torch.device('cpu'),\n",
    "                 dtype=torch.float32,\n",
    "                 eps=1e-4):\n",
    "\n",
    "        super(TransferFlow, self).__init__()\n",
    "        \n",
    "        self.device = device\n",
    "        self.dtype = dtype\n",
    "        self.eps = eps # used for small values like the mass of the gluon for numerical reasons\n",
    "        \n",
    "        self.linearDNN_reco = nn.Linear(in_features=no_recoVars, out_features=transformer_input_features)\n",
    "        self.linearDNN_parton = nn.Linear(in_features=no_partonVars, out_features=transformer_input_features)\n",
    "        self.linearDNN_boost = nn.Linear(in_features=4, out_features=transformer_input_features)\n",
    "        self.gelu = nn.GELU()\n",
    "        self.no_max_objects = no_max_objects\n",
    "        \n",
    "        self.transformer_model = nn.Transformer(d_model=transformer_input_features,\n",
    "                                                nhead=transformer_nhead,\n",
    "                                                num_encoder_layers=transformer_num_encoder_layers,\n",
    "                                                num_decoder_layers=transformer_num_decoder_layers,\n",
    "                                                dim_feedforward=transformer_dim_feedforward,\n",
    "                                                activation=transformer_activation,\n",
    "                                                batch_first=True)\n",
    "        \n",
    "        self.flow = zuko.flows.NSF(features=flow_nfeatures,\n",
    "                              context=transformer_input_features,\n",
    "                              transforms=flow_ntransforms, \n",
    "                              bins=flow_bins, \n",
    "                              hidden_features=[flow_hiddenMLP_LayerDim]*flow_hiddenMLP_NoLayers, \n",
    "                              randperm=randPerm,\n",
    "                              base=eval(flow_base),\n",
    "                              base_args=[torch.ones(flow_nfeatures)*flow_base_first_arg, torch.ones(flow_nfeatures)*flow_base_second_arg],\n",
    "                                   univariate_kwargs={\"bound\": flow_bound }, # Keeping the flow in the [-B,B] box.\n",
    "                              passes= 2 if not flow_autoregressive else flow_nfeatures)\n",
    "        \n",
    "\n",
    "    def disable_conditioner_regression_training(self):\n",
    "        ''' Disable the conditioner regression training, but keep the\n",
    "        latent space training'''\n",
    "        self.cond_transformer.disable_regression_training()\n",
    "\n",
    "    def enable_regression_training(self):\n",
    "        self.cond_transformer.enable_regression_training()\n",
    "        \n",
    "    def forward(self,  scaling_reco_lab, scaling_partons_lab, scaling_RegressedBoost_lab,\n",
    "                mask_reco, mask_boost, flow_eval=\"normalizing\", Nsamples=0, device=torch.device('cpu')):\n",
    "        \n",
    "        scaledLogReco_afterLin = self.gelu(self.linearDNN_reco(scaling_reco_lab) * mask_reco[..., None])\n",
    "        scaledLogParton_afterLin = self.gelu(self.linearDNN_parton(scaling_partons_lab))\n",
    "        #boost_afterLin = self.gelu(self.linearDNN_boost(scaling_RegressedBoost_lab))\n",
    "        #scaledLogReco_withBoost_afterLin = torch.cat((scaledLogReco_afterLin, boost_afterLin), dim=1)\n",
    "\n",
    "        tgt_mask = self.transformer_model.generate_square_subsequent_mask(scaledLogReco_afterLin.size(1), device=device)\n",
    "        # mask to keep the decoder autoregressive\n",
    "        \n",
    "        output_decoder = self.transformer_model(scaledLogParton_afterLin, scaledLogReco_afterLin,\n",
    "                                                tgt_mask=tgt_mask)\n",
    "        \n",
    "        print(f'output_decoder: no_nans = {torch.count_nonzero(torch.isnan(output_decoder))}')\n",
    "        flow_prob = self.flow(output_decoder[:,:self.no_max_objects]).log_prob(scaling_reco_lab[:,:self.no_max_objects,:3])\n",
    "        print(f'flow_prob: no_nans = {torch.count_nonzero(torch.isnan(flow_prob))}')\n",
    "        \n",
    "        #tgt_mask = self.transformer_model.generate_square_subsequent_mask(scaledLogReco_withBoost_afterLin.size(1))\n",
    "        #output_decoder = self.transformer_model(scaledLogParton_afterLin, scaledLogReco_withBoost_afterLin,\n",
    "        #                                  tgt_mask=tgt_mask)\n",
    "        \n",
    "        #scaling_reco_lab_andBoost = torch.cat((scaling_reco_lab[:,:,:3], scaling_RegressedBoost_lab[:,:,1:]), dim=1)\n",
    "        #mask_reco_andBoost = torch.cat((mask_reco, mask_boost), dim=1)\n",
    "        #flow_prob = self.flow(output_decoder[:,:no_max_objects]).log_prob(scaling_reco_lab_andBoost[:,:no_max_objects])\n",
    "        # i will want to add the boost in the target too\n",
    "        \n",
    "        flow_prob_batch = torch.sum(flow_prob*mask_reco[:,:self.no_max_objects], dim=1) # sum the masked objects for each event\n",
    "        no_objects_per_event = torch.sum(mask_reco[:,:self.no_max_objects], dim=1) # compute the number of objects per event\n",
    "        flow_prob_batch = torch.div(flow_prob_batch, no_objects_per_event) # divide the total loss in the event at the no_objects_per_event\n",
    "\n",
    "        avg_flow_prob = flow_prob_batch.mean()\n",
    "                \n",
    "        return avg_flow_prob, flow_prob_batch, flow_prob"
   ]
  },
  {
   "cell_type": "code",
   "execution_count": 7,
   "id": "af62f482",
   "metadata": {},
   "outputs": [],
   "source": [
    "tr_flow = TransferFlow(no_recoVars=7, no_partonVars=3,\n",
    "                 out_features_linearDNN=64,\n",
    "                 \n",
    "                 transformer_nhead=4,\n",
    "                 transformer_num_encoder_layers=4,\n",
    "                 transformer_num_decoder_layers=4,\n",
    "                 transformer_dim_feedforward=64,\n",
    "                 transformer_activation=nn.GELU(),\n",
    "                 \n",
    "                 flow_nfeatures=3,\n",
    "                 flow_ncond=34, \n",
    "                 flow_ntransforms=5,\n",
    "                 flow_hiddenMLP_NoLayers=16,\n",
    "                 flow_hiddenMLP_LayerDim=128,\n",
    "                 flow_bins=16,\n",
    "                 flow_autoregressive=True,\n",
    "                 flow_base='DiagNormal',\n",
    "                 flow_base_first_arg=0,\n",
    "                 flow_base_second_arg=0.3,\n",
    "                 flow_bound=1.,\n",
    "                 randPerm=False,\n",
    "                 \n",
    "                 device=torch.device('cpu'),\n",
    "                 dtype=torch.float32,\n",
    "                 eps=1e-4)"
   ]
  },
  {
   "cell_type": "code",
   "execution_count": 8,
   "id": "5adff259",
   "metadata": {},
   "outputs": [
    {
     "name": "stderr",
     "output_type": "stream",
     "text": [
      "/work/adpetre/zuko/zuko/transforms.py:413: UserWarning: torch.searchsorted(): input value tensor is non-contiguous, this will lower the performance due to extra data copy when converting non-contiguous tensor to contiguous, please use contiguous input value tensor if possible. This message will only appear once per program. (Triggered internally at ../aten/src/ATen/native/BucketizationUtils.h:33.)\n",
      "  return torch.searchsorted(seq, value[..., None]).squeeze(dim=-1)\n"
     ]
    }
   ],
   "source": [
    "avg_flowPr, batch_flow_pr, flow_pr = tr_flow(scaledLogReco[:,:,:7], scaledLogReco[:,:,:3], scaledLogParton, boostReco, maskedReco, maskBoost,\n",
    "                                             10)"
   ]
  },
  {
   "cell_type": "markdown",
   "id": "cad9e768",
   "metadata": {},
   "source": [
    "# check loss per object"
   ]
  },
  {
   "cell_type": "code",
   "execution_count": 17,
   "id": "dee58cd0",
   "metadata": {},
   "outputs": [
    {
     "name": "stdout",
     "output_type": "stream",
     "text": [
      "torch.Size([10])\n",
      "torch.Size([10])\n"
     ]
    }
   ],
   "source": [
    "first_try = torch.sum(flow_pr*maskedReco[:,:10], dim=0)\n",
    "print(first_try.shape)\n",
    "\n",
    "number_MaskedObjects = torch.sum(maskedReco[:,:10], dim=0)\n",
    "print(number_MaskedObjects.shape)"
   ]
  },
  {
   "cell_type": "code",
   "execution_count": 19,
   "id": "f3039f89",
   "metadata": {},
   "outputs": [
    {
     "name": "stdout",
     "output_type": "stream",
     "text": [
      "torch.Size([10000, 10, 8])\n",
      "torch.Size([10000, 10])\n"
     ]
    }
   ],
   "source": [
    "print(scaledLogReco[:,:10].shape)\n",
    "print(flow_pr.shape)"
   ]
  },
  {
   "cell_type": "markdown",
   "id": "299b119f",
   "metadata": {},
   "source": [
    "# check loss in pt bins + unscale pt"
   ]
  },
  {
   "cell_type": "code",
   "execution_count": 45,
   "id": "54d21a35",
   "metadata": {},
   "outputs": [],
   "source": [
    "log_mean_reco = data.reco_lab.meanRecoParticles\n",
    "log_std_reco = data.reco_lab.stdRecoParticles\n",
    "reco_particles = data.reco_lab.recoParticles[0:10000]"
   ]
  },
  {
   "cell_type": "code",
   "execution_count": 48,
   "id": "77845d3d",
   "metadata": {},
   "outputs": [],
   "source": [
    "unscaled_pt = torch.exp(scaledLogReco[:,:,0]*log_std_reco[0] + log_mean_reco[0]) - 1\n",
    "unscaled_pt = unscaled_pt*maskedReco"
   ]
  },
  {
   "cell_type": "code",
   "execution_count": 53,
   "id": "0f288d34",
   "metadata": {},
   "outputs": [
    {
     "data": {
      "image/png": "[encoded data removed]",
      "text/plain": [
       "<Figure size 640x480 with 1 Axes>"
      ]
     },
     "metadata": {},
     "output_type": "display_data"
    }
   ],
   "source": [
    "x = plt.hist(unscaled_pt.numpy() - reco_particles[:,:,0].numpy(), bins=100)"
   ]
  },
  {
   "cell_type": "code",
   "execution_count": 64,
   "id": "9d506e0d",
   "metadata": {},
   "outputs": [
    {
     "data": {
      "text/plain": [
       "(array([103847.,  20953.,  19518.,  12656.,  13181.,   5135.,   3276.,\n",
       "          1425.]),\n",
       " array([   0.,   25.,   50.,   75.,  100.,  150.,  200.,  300., 1000.]),\n",
       " <BarContainer object of 8 artists>)"
      ]
     },
     "execution_count": 64,
     "metadata": {},
     "output_type": "execute_result"
    },
    {
     "data": {
      "image/png": "[encoded data removed]",
      "text/plain": [
       "<Figure size 640x480 with 1 Axes>"
      ]
     },
     "metadata": {},
     "output_type": "display_data"
    }
   ],
   "source": [
    "plt.hist(unscaled_pt.numpy().flatten(), bins=[0,25,50,75,100,150,200,300,1000])"
   ]
  },
  {
   "cell_type": "code",
   "execution_count": 69,
   "id": "82eaf33d",
   "metadata": {},
   "outputs": [
    {
     "name": "stdout",
     "output_type": "stream",
     "text": [
      "tensor([247.5000, 130.2500,  89.1250,  86.8750,  55.2813,  33.0312,  33.0000,\n",
      "          0.0000,   0.0000,   0.0000,   0.0000,   0.0000,   0.0000,   0.0000,\n",
      "          0.0000,   0.0000,  44.1741,  93.1483])\n"
     ]
    }
   ],
   "source": [
    "print(unscaled_pt[0])"
   ]
  },
  {
   "cell_type": "code",
   "execution_count": 71,
   "id": "4f7e7ab6",
   "metadata": {},
   "outputs": [
    {
     "name": "stdout",
     "output_type": "stream",
     "text": [
      "tensor([[False, False, False,  ..., False, False, False],\n",
      "        [False, False, False,  ..., False, False, False],\n",
      "        [False, False, False,  ..., False, False, False],\n",
      "        ...,\n",
      "        [False, False, False,  ..., False, False, False],\n",
      "        [False, False, False,  ..., False, False, False],\n",
      "        [False, False, False,  ..., False, False, False]])\n"
     ]
    }
   ],
   "source": [
    "mask_pt_greater_0 = unscaled_pt[:,:10] > 5 \n",
    "mask_pt_lower_50 = unscaled_pt[:,:10] < 30\n",
    "\n",
    "mask_pt_0_50 = torch.logical_and(mask_pt_grater_0, mask_pt_lower_50)\n",
    "print(mask_pt_0_50)"
   ]
  },
  {
   "cell_type": "code",
   "execution_count": 73,
   "id": "89a103a8",
   "metadata": {},
   "outputs": [
    {
     "data": {
      "text/plain": [
       "tensor(1403.0004)"
      ]
     },
     "execution_count": 73,
     "metadata": {},
     "output_type": "execute_result"
    }
   ],
   "source": [
    "torch.max(unscaled_pt)"
   ]
  },
  {
   "cell_type": "code",
   "execution_count": 72,
   "id": "92944b2c",
   "metadata": {},
   "outputs": [
    {
     "name": "stdout",
     "output_type": "stream",
     "text": [
      "torch.Size([0])\n"
     ]
    }
   ],
   "source": [
    "print(flow_pr[mask_pt_0_50].shape)"
   ]
  },
  {
   "cell_type": "code",
   "execution_count": 39,
   "id": "c9aa0a30",
   "metadata": {},
   "outputs": [
    {
     "name": "stdout",
     "output_type": "stream",
     "text": [
      "tensor([[-36.4432,  -8.4614, -11.9981,  ...,   0.5705,   0.5705,   0.5705],\n",
      "        [-13.8718, -23.8085,  -3.3919,  ...,   0.5705,   0.5705,   0.5705],\n",
      "        [-40.0943, -20.8213,  -5.8146,  ...,   0.5705,   0.5705,   0.5705],\n",
      "        ...,\n",
      "        [ -6.1844, -15.3687, -24.3188,  ...,   0.5705,   0.5705,   0.5705],\n",
      "        [-34.4876, -13.8191,  -6.4025,  ...,   0.5705,   0.5705,   0.5705],\n",
      "        [-17.1896,  -0.2763, -30.9214,  ...,   0.5705,   0.5705,   0.5705]],\n",
      "       grad_fn=<AddBackward0>)\n"
     ]
    }
   ],
   "source": [
    "print(flow_pr)"
   ]
  },
  {
   "cell_type": "markdown",
   "id": "f75854a3",
   "metadata": {},
   "source": [
    "# Loss"
   ]
  },
  {
   "cell_type": "code",
   "execution_count": 5,
   "id": "5638c7e2",
   "metadata": {
    "tags": []
   },
   "outputs": [
    {
     "name": "stdout",
     "output_type": "stream",
     "text": [
      ">>Loading datasets\n",
      "Loading partons in LAB\n",
      "PartonLevel LAB\n",
      "Reading parton_level Files\n",
      "Load logScaled_data_higgs_t_tbar_ISR\n",
      "Parton: Move tensors to device (cuda) memory\n",
      "Loading reco in LAB\n",
      "RecoLevel LAB\n",
      "Reading reco_level Files\n",
      "Load scaledLogRecoParticles\n",
      "Reco: Move tensors to device (cuda) memory\n",
      "Loaded datasets:  ['partons_lab', 'reco_lab']\n"
     ]
    }
   ],
   "source": [
    "world_size = None\n",
    "\n",
    "data = dataset_all.DatasetCombined(root_lxplus, dtype=torch.float64, dev=device, datasets=[\"partons_lab\", \"reco_lab\"],\n",
    "                                    reco_list_lab=['scaledLogRecoParticles', 'mask_lepton',\n",
    "                                                'mask_jets','mask_met',\n",
    "                                                'mask_boost', 'data_boost'],\n",
    "                                    parton_list_lab=['logScaled_data_higgs_t_tbar_ISR'])\n",
    "\n",
    "trainingLoader = DataLoader(\n",
    "        data,\n",
    "        batch_size= 32,\n",
    "        shuffle=False if world_size is not None else True,\n",
    "        sampler=DistributedSampler(train_dataset) if world_size is not None else None,\n",
    "\n",
    "    )\n",
    "\n",
    "log_mean_reco = data.reco_lab.meanRecoParticles\n",
    "log_std_reco = data.reco_lab.stdRecoParticles"
   ]
  },
  {
   "cell_type": "code",
   "execution_count": null,
   "id": "30234b3f",
   "metadata": {},
   "outputs": [],
   "source": [
    "path_to_conf = ''\n",
    "model_weights = ''\n",
    "with open(path_to_conf) as f:\n",
    "        config = OmegaConf.load(path_to_conf)\n",
    "\n",
    "if True:    \n",
    "    \n",
    "    log_mean_parton = data.partons_lab.mean_log_data_higgs_t_tbar_ISR\n",
    "    log_std_parton = data.partons_lab.std_log_data_higgs_t_tbar_ISR\n",
    "    log_mean_boost = data.partons_lab.mean_log_data_boost\n",
    "    log_std_boost = data.partons_lab.std_log_data_boost\n",
    "    mean_ps = data.partons_CM.mean_phasespace_intermediateParticles_onShell_logit\n",
    "    scale_ps = data.partons_CM.std_phasespace_intermediateParticles_onShell_logit\n",
    "\n",
    "    # Initialize model\n",
    "    model = UnfoldingFlow(\n",
    "                    pretrained_model=None,\n",
    "                    load_conditioning_model=False,\n",
    "                    scaling_partons_lab = [log_mean_parton, log_std_parton],\n",
    "                    scaling_boost_lab = [log_mean_boost, log_std_boost],\n",
    "                    scaling_partons_CM_ps = [mean_ps, scale_ps],\n",
    "\n",
    "                    no_jets=config.input_shape.number_jets,\n",
    "                    no_lept=config.input_shape.number_lept,\n",
    "                    input_features=config.input_shape.input_features,\n",
    "                    cond_hiddenFeatures=config.conditioning_transformer.hidden_features,\n",
    "                    cond_dimFeedForward=config.conditioning_transformer.dim_feedforward_transformer,\n",
    "                    cond_outFeatures=config.conditioning_transformer.out_features,\n",
    "                    cond_nheadEncoder=config.conditioning_transformer.nhead_encoder,\n",
    "                    cond_NoLayersEncoder=config.conditioning_transformer.no_layers_encoder,\n",
    "                    cond_nheadDecoder=config.conditioning_transformer.nhead_decoder,\n",
    "                    cond_NoLayersDecoder=config.conditioning_transformer.no_layers_decoder,\n",
    "                    cond_NoDecoders=config.conditioning_transformer.no_decoders,\n",
    "                    cond_aggregate=config.conditioning_transformer.aggregate,\n",
    "                    cond_use_latent=config.conditioning_transformer.use_latent,\n",
    "                    cond_out_features_latent=config.conditioning_transformer.out_features_latent,\n",
    "                    cond_no_layers_decoder_latent=config.conditioning_transformer.no_layers_decoder_latent,   \n",
    "        \n",
    "                    flow_nfeatures=config.unfolding_flow.nfeatures,\n",
    "                    flow_ncond=config.unfolding_flow.ncond, \n",
    "                    flow_ntransforms=config.unfolding_flow.ntransforms,\n",
    "                    flow_hiddenMLP_NoLayers=config.unfolding_flow.hiddenMLP_NoLayers, \n",
    "                    flow_hiddenMLP_LayerDim=config.unfolding_flow.hiddenMLP_LayerDim,\n",
    "                    flow_bins=config.unfolding_flow.bins,\n",
    "                    flow_autoregressive=config.unfolding_flow.autoregressive,\n",
    "                    flow_base=config.unfolding_flow.base,\n",
    "                    flow_base_first_arg=config.unfolding_flow.base_first_arg,\n",
    "                    flow_base_second_arg=config.unfolding_flow.base_second_arg,\n",
    "                    flow_bound=config.unfolding_flow.bound,\n",
    "                    randPerm=config.unfolding_flow.randPerm,\n",
    "                    device=torch.device(\"cpu\"),\n",
    "                    dtype=torch.float64,\n",
    "                    eps=config.training_params.eps)\n",
    "\n",
    "    model.load_state_dict(torch.load(model_weights, map_location=torch.device(\"cpu\"))[\"model_state_dict\"])\n",
    "\n",
    "    # Setting up DDP\n",
    "    model = model.to(torch.device(\"cpu\"))\n",
    "    model.eval()"
   ]
  },
  {
   "cell_type": "code",
   "execution_count": 19,
   "id": "f92561fb-0fc1-4e9a-807e-67061636e033",
   "metadata": {
    "tags": []
   },
   "outputs": [],
   "source": [
    "def unscale_pt(logScaled_reco, mask_recoParticles, log_mean_reco, log_std_reco, no_max_objects):\n",
    "    unscaled_pt = torch.exp(logScaled_reco[:,:no_max_objects,0]*log_std_reco[0] + log_mean_reco[0]) - 1\n",
    "    unscaled_pt = unscaled_pt*mask_recoParticles[:,:no_max_objects] # set masked objects to 0\n",
    "    return unscaled_pt\n",
    "\n",
    "def alter_variable(change, target_var, log_mean, log_std, no_max_objects, is_pt=False):\n",
    "    unscaled_var = target_var*log_std + log_mean\n",
    "    if is_pt:\n",
    "        unscaled_var = torch.exp(unscaled_var) - 1\n",
    "        \n",
    "    unscaled_var = unscaled_var + change\n",
    "    \n",
    "    if is_pt:\n",
    "        unscaled_var = torch.log(unscaled_var + 1)\n",
    "        \n",
    "    logScaled_var = (unscaled_var - log_mean)/log_std\n",
    "    return logScaled_var\n",
    "    \n",
    "\n",
    "def compute_loss_per_pt(loss_per_pt, flow_pr, scaledLogReco, maskedReco, log_mean_reco, log_std_reco, no_max_objects,\n",
    "                        pt_bins=[5, 50, 75, 100, 150, 200, 300, 1500, 3000]):\n",
    "    unscaled_pt = unscale_pt(scaledLogReco, maskedReco, log_mean_reco, log_std_reco, no_max_objects)\n",
    "\n",
    "    for i in range(len(pt_bins) - 1):\n",
    "        mask_pt_greater = unscaled_pt > pt_bins[i]\n",
    "        mask_pt_lower = unscaled_pt < pt_bins[i+1]\n",
    "        mask_pt = torch.logical_and(mask_pt_greater, mask_pt_lower)\n",
    "        #print(torch.count_nonzero(mask_pt))\n",
    "        if torch.count_nonzero(mask_pt) == 0:\n",
    "            loss_per_pt[i] =  0\n",
    "        else:\n",
    "            loss_per_pt[i] =  -1*flow_pr[mask_pt].mean()\n",
    "\n",
    "    return loss_per_pt\n",
    "\n"
   ]
  },
  {
   "cell_type": "code",
   "execution_count": 62,
   "id": "e97374f1",
   "metadata": {
    "tags": []
   },
   "outputs": [
    {
     "name": "stdout",
     "output_type": "stream",
     "text": [
      "output_decoder: no_nans = 0\n",
      "flow_prob: no_nans = 0\n",
      "output_decoder: no_nans = 0\n",
      "flow_prob: no_nans = 0\n",
      "output_decoder: no_nans = 0\n",
      "flow_prob: no_nans = 0\n",
      "output_decoder: no_nans = 0\n",
      "flow_prob: no_nans = 0\n",
      "output_decoder: no_nans = 0\n",
      "flow_prob: no_nans = 0\n",
      "output_decoder: no_nans = 0\n",
      "flow_prob: no_nans = 0\n",
      "tensor(0, device='cuda:0')\n",
      "output_decoder: no_nans = 0\n",
      "flow_prob: no_nans = 0\n"
     ]
    },
    {
     "data": {
      "image/png": "[encoded data removed]",
      "text/plain": [
       "<Figure size 500x500 with 1 Axes>"
      ]
     },
     "metadata": {},
     "output_type": "display_data"
    },
    {
     "data": {
      "image/png": "[encoded data removed]",
      "text/plain": [
       "<Figure size 500x500 with 1 Axes>"
      ]
     },
     "metadata": {},
     "output_type": "display_data"
    }
   ],
   "source": [
    "no_max_objects = 12\n",
    "\n",
    "tr_flow = TransferFlow(no_recoVars=7, no_partonVars=3,\n",
    "                 \n",
    "                 transformer_input_features=16,\n",
    "                 transformer_nhead=2,\n",
    "                 transformer_num_encoder_layers=1,\n",
    "                 transformer_num_decoder_layers=1,\n",
    "                 transformer_dim_feedforward=32,\n",
    "                 transformer_activation=nn.GELU(),\n",
    "                 \n",
    "                 flow_nfeatures=3,\n",
    "                 flow_ntransforms=5,\n",
    "                 flow_hiddenMLP_NoLayers=4,\n",
    "                 flow_hiddenMLP_LayerDim=128,\n",
    "                 flow_bins=16,\n",
    "                 flow_autoregressive=True,\n",
    "                 flow_base='DiagNormal',\n",
    "                 flow_base_first_arg=-1,\n",
    "                 flow_base_second_arg=1,\n",
    "                 flow_bound=1.,\n",
    "                 randPerm=False,\n",
    "                 no_max_objects=no_max_objects,\n",
    "                 \n",
    "                 device=device,\n",
    "                 dtype=torch.float32,\n",
    "                 eps=1e-4)\n",
    "tr_flow = tr_flow.cuda()\n",
    "\n",
    "optimizer = optim.Adam(list(tr_flow.parameters()) , lr=0.00001)\n",
    "N_train = 0\n",
    "ii = 0\n",
    "\n",
    "pt_bins=[5, 50, 75, 100, 150, 200, 300, 1500]\n",
    "loss_total_each_object = torch.zeros(no_max_objects, device=device)\n",
    "loss_per_pt = torch.zeros(len(pt_bins) - 1, device=device)\n",
    "total_loss_per_pt = torch.zeros(len(pt_bins) - 1, device=device)\n",
    "\n",
    "for i, data_batch in enumerate(trainingLoader):\n",
    "            N_train += 1\n",
    "            ii+=1\n",
    "\n",
    "            optimizer.zero_grad()\n",
    "\n",
    "            (logScaled_partons,\n",
    "             logScaled_reco, mask_lepton,\n",
    "             mask_jets, mask_met,\n",
    "             mask_boost, data_boost_reco) = data_batch\n",
    "                \n",
    "            mask_recoParticles = torch.cat((mask_jets, mask_lepton, mask_met), dim=1)\n",
    "            if True:\n",
    "                logScaled_reco = logScaled_reco[:,:,:-1]\n",
    "            \n",
    "            # The provenance is remove in the model\n",
    "            avg_flowPr, batch_flow_pr, flow_pr   = tr_flow(logScaled_reco,\n",
    "                                                        logScaled_partons,\n",
    "                                                        data_boost_reco,\n",
    "                                                        mask_recoParticles,\n",
    "                                                        mask_boost,\n",
    "                                                        device=device)\n",
    "\n",
    "\n",
    "            loss_main = -avg_flowPr\n",
    "            \n",
    "            # trebuie sa fac medie pe fiecare coloana (prima coloana -> primul object)\n",
    "            # si tot asa -> problema: unele obiecte trebuie sa fie mascate asa ca nu trebuie\n",
    "            # luate in considerare\n",
    "            #print(flow_pr.shape)\n",
    "            #print(mask_recoParticles[:,:no_max_objects].shape)\n",
    "            loss_Sum_each_object = torch.sum(-1*flow_pr*mask_recoParticles[:,:no_max_objects], dim=0)\n",
    "            number_MaskedObjects = torch.sum(mask_recoParticles[:,:no_max_objects], dim=0)\n",
    "            loss_mean_each_object = torch.div(loss_Sum_each_object, number_MaskedObjects)\n",
    "\n",
    "            loss_mean_each_object = torch.nan_to_num(loss_mean_each_object, nan=0.0)\n",
    "            if torch.isnan(loss_mean_each_object).any() or torch.isinf(loss_mean_each_object).any():\n",
    "                print(f'ii= {ii} loss_mean_each_object: nans = {torch.count_nonzero(torch.isnan(loss_mean_each_object))}     infs = {torch.count_nonzero(torch.isinf(loss_mean_each_object))}')\n",
    "                break\n",
    "            \n",
    "            loss_total_each_object = torch.add(loss_total_each_object, loss_mean_each_object)\n",
    "\n",
    "            loss_per_pt = compute_loss_per_pt(loss_per_pt, flow_pr, logScaled_reco, mask_recoParticles, log_mean_reco, log_std_reco, no_max_objects,\n",
    "                        pt_bins=pt_bins)\n",
    "            total_loss_per_pt = torch.add(total_loss_per_pt, loss_per_pt)\n",
    "\n",
    "            if torch.isnan(loss_total_each_object).any() or torch.isinf(loss_total_each_object).any():\n",
    "                print(f'ii= {ii} Training_Total: nans = {torch.count_nonzero(torch.isnan(loss_total_each_object))}     infs = {torch.count_nonzero(torch.isinf(loss_total_each_object))}')\n",
    "                break\n",
    "\n",
    "            if torch.isnan(total_loss_per_pt).any() or torch.isinf(total_loss_per_pt).any():\n",
    "                print(f'ii= {ii} Training_pt: nans = {torch.count_nonzero(torch.isnan(total_loss_per_pt))}       infs = {torch.count_nonzero(torch.isinf(total_loss_per_pt))}')\n",
    "                break\n",
    "                    \n",
    "            loss_main.backward()\n",
    "            optimizer.step()\n",
    "            #sum_loss += loss_main.item()\n",
    "            \n",
    "            if ii == 5:\n",
    "                \n",
    "                wrong_logScaled_reco = logScaled_reco\n",
    "                colors = ['red', 'tan', 'lime']\n",
    "                \n",
    "                # wrong pt\n",
    "                wrong_pt = alter_variable(change=-25, \n",
    "                                          target_var=wrong_logScaled_reco[:,:no_max_objects,0], \n",
    "                                          log_mean=log_mean_reco[0], \n",
    "                                          log_std=log_std_reco[0], \n",
    "                                          no_max_objects=no_max_objects, \n",
    "                                          is_pt=True)\n",
    "                \n",
    "                wrong_logScaled_reco[:,:no_max_objects, 0] = wrong_pt\n",
    "                \n",
    "                wrong_pt_avg_flowPr, wrong_pt_batch_flow_pr, wrong_pt_flow_pr   = tr_flow(wrong_logScaled_reco,\n",
    "                                                                                            logScaled_partons,\n",
    "                                                                                            data_boost_reco,\n",
    "                                                                                            mask_recoParticles,\n",
    "                                                                                            mask_boost,\n",
    "                                                                                            device=device)\n",
    "                print(torch.count_nonzero(torch.isnan(wrong_pt_flow_pr)*mask_recoParticles[:,:no_max_objects]))\n",
    "                # wrong pt and eta\n",
    "                wrong_eta = alter_variable(change=+1, \n",
    "                                          target_var=wrong_logScaled_reco[:,:no_max_objects,1], \n",
    "                                          log_mean=log_mean_reco[1], \n",
    "                                          log_std=log_std_reco[1], \n",
    "                                          no_max_objects=no_max_objects, \n",
    "                                          is_pt=False)\n",
    "                \n",
    "                wrong_logScaled_reco[:,:no_max_objects, 1] = wrong_eta\n",
    "                \n",
    "                wrong_ptAndEta_avg_flowPr, wrong_ptAndEta_batch_flow_pr, wrong_ptAndEta_flow_pr   = tr_flow(wrong_logScaled_reco,\n",
    "                                                                                                            logScaled_partons,\n",
    "                                                                                                            data_boost_reco,\n",
    "                                                                                                            mask_recoParticles,\n",
    "                                                                                                            mask_boost,\n",
    "                                                                                                            device=device)\n",
    "                #bins = [ -100 + i*5 for i in range(21)]\n",
    "                #bins_lower = [-300,-250,-200,-150]\n",
    "                #bins = bins_lower + bins\n",
    "                stacked= False\n",
    "                filled = False\n",
    "                #print(bins)\n",
    "                \n",
    "                #print(wrong_pt_batch_flow_pr)\n",
    "                #print(wrong_ptAndEta_batch_flow_pr)\n",
    "                \n",
    "                fig, ax = plt.subplots(figsize=(5,5), dpi=100)\n",
    "                ax.hist(batch_flow_pr.detach().cpu().numpy(), range=(-30,0), bins=30, histtype='step', label='target', color='b', stacked=stacked, fill=filled)\n",
    "                ax.hist(wrong_pt_batch_flow_pr.detach().cpu().numpy(), range=(-30,0), bins=30, histtype='step', label=f'first pt jet - 15 GeV', color='r', stacked=stacked, fill=filled)\n",
    "                plt.legend()\n",
    "                \n",
    "                fig, ax = plt.subplots(figsize=(5,5), dpi=100)\n",
    "                ax.hist(wrong_pt_batch_flow_pr.detach().cpu().numpy(), range=(-30,0), bins=30, histtype='step', label='first pt jet - 15 GeV', color='r', stacked=stacked, fill=filled)\n",
    "                ax.hist(wrong_ptAndEta_batch_flow_pr.detach().cpu().numpy(), range=(-30,0), bins=30, histtype='step', label='first pt jet - 15 GeV and eta + 1', color='g', stacked=stacked, fill=filled)\n",
    "                plt.legend()\n",
    "                break\n"
   ]
  },
  {
   "cell_type": "code",
   "execution_count": null,
   "id": "dd7a9804",
   "metadata": {},
   "outputs": [],
   "source": []
  },
  {
   "cell_type": "markdown",
   "id": "6388c7f5",
   "metadata": {},
   "source": [
    "# version from paper"
   ]
  },
  {
   "cell_type": "code",
   "execution_count": 9,
   "id": "09766290",
   "metadata": {
    "tags": []
   },
   "outputs": [],
   "source": [
    "class TransferFlow_Paper(nn.Module):\n",
    "    def __init__(self,\n",
    "                 no_recoVars, no_partonVars,\n",
    "                 \n",
    "                 transformer_input_features=64,\n",
    "                 transformer_nhead=8,\n",
    "                 transformer_num_encoder_layers=4,\n",
    "                 transformer_num_decoder_layers=4,\n",
    "                 transformer_dim_feedforward=128,\n",
    "                 transformer_activation=nn.GELU(),\n",
    "                 \n",
    "                 flow_nfeatures=12,\n",
    "                 flow_ntransforms=5,\n",
    "                 flow_hiddenMLP_NoLayers=4,\n",
    "                 flow_hiddenMLP_LayerDim=128,\n",
    "                 flow_bins=16,\n",
    "                 flow_autoregressive=True,\n",
    "                 flow_base=BoxUniform,\n",
    "                 flow_base_first_arg=-1,\n",
    "                 flow_base_second_arg=1,\n",
    "                 flow_bound=1.,\n",
    "                 randPerm=False,\n",
    "                 no_max_objects=10,\n",
    "                 \n",
    "                 device=torch.device('cpu'),\n",
    "                 dtype=torch.float32,\n",
    "                 eps=1e-4):\n",
    "\n",
    "        super(TransferFlow_Paper, self).__init__()\n",
    "        \n",
    "        self.device = device\n",
    "        self.dtype = dtype\n",
    "        self.eps = eps # used for small values like the mass of the gluon for numerical reasons\n",
    "        \n",
    "        self.linearDNN_reco = nn.Linear(in_features=no_recoVars, out_features=transformer_input_features)\n",
    "        self.linearDNN_parton = nn.Linear(in_features=no_partonVars, out_features=transformer_input_features)\n",
    "        self.linearDNN_boost = nn.Linear(in_features=4, out_features=transformer_input_features)\n",
    "        self.gelu = nn.GELU()\n",
    "        self.no_max_objects = no_max_objects\n",
    "        \n",
    "        self.transformer_model = nn.Transformer(d_model=transformer_input_features,\n",
    "                                                nhead=transformer_nhead,\n",
    "                                                num_encoder_layers=transformer_num_encoder_layers,\n",
    "                                                num_decoder_layers=transformer_num_decoder_layers,\n",
    "                                                dim_feedforward=transformer_dim_feedforward,\n",
    "                                                activation=transformer_activation,\n",
    "                                                batch_first=True)\n",
    "        \n",
    "        self.flow_pt = zuko.flows.NSF(features=flow_nfeatures,\n",
    "                              context=transformer_input_features,\n",
    "                              transforms=flow_ntransforms, \n",
    "                              bins=flow_bins, \n",
    "                              hidden_features=[flow_hiddenMLP_LayerDim]*flow_hiddenMLP_NoLayers, \n",
    "                              randperm=randPerm,\n",
    "                              base=eval(flow_base),\n",
    "                              base_args=[torch.ones(flow_nfeatures)*flow_base_first_arg, torch.ones(flow_nfeatures)*flow_base_second_arg],\n",
    "                                   univariate_kwargs={\"bound\": flow_bound }, # Keeping the flow in the [-B,B] box.\n",
    "                              passes= 2 if not flow_autoregressive else flow_nfeatures)\n",
    "\n",
    "        self.flow_eta = zuko.flows.NSF(features=flow_nfeatures,\n",
    "                              context=transformer_input_features + 1, # additional condition pt\n",
    "                              transforms=flow_ntransforms, \n",
    "                              bins=flow_bins, \n",
    "                              hidden_features=[flow_hiddenMLP_LayerDim]*flow_hiddenMLP_NoLayers, \n",
    "                              randperm=randPerm,\n",
    "                              base=eval(flow_base),\n",
    "                              base_args=[torch.ones(flow_nfeatures)*flow_base_first_arg, torch.ones(flow_nfeatures)*flow_base_second_arg],\n",
    "                                   univariate_kwargs={\"bound\": flow_bound }, # Keeping the flow in the [-B,B] box.\n",
    "                              passes= 2 if not flow_autoregressive else flow_nfeatures)\n",
    "\n",
    "        self.flow_phi = zuko.flows.NSF(features=flow_nfeatures,\n",
    "                              context=transformer_input_features + 2, # additional condition pt/eta\n",
    "                              transforms=flow_ntransforms, \n",
    "                              bins=flow_bins, \n",
    "                              hidden_features=[flow_hiddenMLP_LayerDim]*flow_hiddenMLP_NoLayers, \n",
    "                              randperm=randPerm,\n",
    "                              base=eval(flow_base),\n",
    "                              base_args=[torch.ones(flow_nfeatures)*flow_base_first_arg, torch.ones(flow_nfeatures)*flow_base_second_arg],\n",
    "                                   univariate_kwargs={\"bound\": flow_bound }, # Keeping the flow in the [-B,B] box.\n",
    "                              passes= 2 if not flow_autoregressive else flow_nfeatures)\n",
    "        \n",
    "\n",
    "    def disable_conditioner_regression_training(self):\n",
    "        ''' Disable the conditioner regression training, but keep the\n",
    "        latent space training'''\n",
    "        self.cond_transformer.disable_regression_training()\n",
    "\n",
    "    def enable_regression_training(self):\n",
    "        self.cond_transformer.enable_regression_training()\n",
    "        \n",
    "    def forward(self,  scaling_reco_lab, scaling_partons_lab, scaling_RegressedBoost_lab,\n",
    "                mask_reco, mask_boost, flow_eval=\"normalizing\", Nsamples=0, device=torch.device('cpu')):\n",
    "        \n",
    "        print(scaling_reco_lab.shape)\n",
    "        print(mask_reco.shape)\n",
    "        \n",
    "        scaledLogReco_afterLin = self.gelu(self.linearDNN_reco(scaling_reco_lab) * mask_reco[..., None])\n",
    "        scaledLogParton_afterLin = self.gelu(self.linearDNN_parton(scaling_partons_lab))\n",
    "\n",
    "        tgt_mask = self.transformer_model.generate_square_subsequent_mask(scaledLogReco_afterLin.size(1), device=self.device)\n",
    "        # mask to keep the decoder autoregressive\n",
    "        \n",
    "        output_decoder = self.transformer_model(scaledLogParton_afterLin, scaledLogReco_afterLin,\n",
    "                                                tgt_mask=tgt_mask)\n",
    "        no_objects_per_event = torch.sum(mask_reco[:,:self.no_max_objects], dim=1) # compute the number of objects per event\n",
    "        \n",
    "        conditioning_pt = output_decoder[:,:self.no_max_objects]\n",
    "        scaled_reco_lab_pt = scaling_reco_lab[:,:self.no_max_objects,0].unsqueeze(dim=2)\n",
    "        flow_prob_pt = self.flow_pt(conditioning_pt).log_prob(scaled_reco_lab_pt)\n",
    "        flow_prob_pt_batch = torch.sum(flow_prob_pt*mask_reco[:,:self.no_max_objects], dim=1) # take avg of masked objects\n",
    "        flow_prob_pt_batch = torch.div(flow_prob_pt_batch, no_objects_per_event) # divide the total loss in the event at the no_objects_per_event\n",
    "        avg_flow_prob_pt = flow_prob_pt_batch.mean()\n",
    "        \n",
    "        conditioning_eta = torch.cat((output_decoder[:,:self.no_max_objects], scaled_reco_lab_pt), dim=2) # add pt in conditioning\n",
    "        scaled_reco_lab_eta = scaling_reco_lab[:,:self.no_max_objects,1].unsqueeze(dim=2)\n",
    "        flow_prob_eta = self.flow_eta(conditioning_eta).log_prob(scaled_reco_lab_eta)\n",
    "        flow_prob_eta_batch = torch.sum(flow_prob_eta*mask_reco[:,:self.no_max_objects], dim=1) # take avg of masked objects\n",
    "        flow_prob_eta_batch = torch.div(flow_prob_eta_batch, no_objects_per_event) # divide the total loss in the event at the no_objects_per_event\n",
    "        avg_flow_prob_eta = flow_prob_eta_batch.mean()\n",
    "        \n",
    "        conditioning_phi = torch.cat((output_decoder[:,:self.no_max_objects], scaled_reco_lab_pt, scaled_reco_lab_eta), dim=2)\n",
    "        scaled_reco_lab_phi = scaling_reco_lab[:,:self.no_max_objects,2].unsqueeze(dim=2)\n",
    "        flow_prob_phi = self.flow_phi(conditioning_phi).log_prob(scaled_reco_lab_phi)\n",
    "        flow_prob_phi_batch = torch.sum(flow_prob_phi*mask_reco[:,:self.no_max_objects], dim=1) # take avg of masked objects\n",
    "        flow_prob_phi_batch = torch.div(flow_prob_phi_batch, no_objects_per_event) # divide the total loss in the event at the no_objects_per_event\n",
    "        avg_flow_prob_phi = flow_prob_phi_batch.mean()\n",
    "                                \n",
    "        return avg_flow_prob_pt, flow_prob_pt_batch, flow_prob_pt, \\\n",
    "                avg_flow_prob_eta, flow_prob_eta_batch, flow_prob_eta, \\\n",
    "                avg_flow_prob_phi, flow_prob_phi_batch, flow_prob_phi"
   ]
  },
  {
   "cell_type": "code",
   "execution_count": 7,
   "id": "0e2b2e86",
   "metadata": {
    "tags": []
   },
   "outputs": [
    {
     "name": "stdout",
     "output_type": "stream",
     "text": [
      "move to cuda\n"
     ]
    }
   ],
   "source": [
    "tr_flow = None\n",
    "#tr_flow.collect()\n",
    "torch.cuda.empty_cache()\n",
    "del tr_flow\n",
    "\n",
    "tr_flow = TransferFlow_Paper(no_recoVars=7, no_partonVars=3,\n",
    "                 transformer_input_features=32,\n",
    "                 \n",
    "                 transformer_nhead=2,\n",
    "                 transformer_num_encoder_layers=1,\n",
    "                 transformer_num_decoder_layers=1,\n",
    "                 transformer_dim_feedforward=32,\n",
    "                 transformer_activation=nn.GELU(),\n",
    "                 \n",
    "                 flow_nfeatures=1,\n",
    "                 flow_ntransforms=5,\n",
    "                 flow_hiddenMLP_NoLayers=16,\n",
    "                 flow_hiddenMLP_LayerDim=128,\n",
    "                 flow_bins=16,\n",
    "                 flow_autoregressive=True,\n",
    "                 flow_base='DiagNormal',\n",
    "                 flow_base_first_arg=0,\n",
    "                 flow_base_second_arg=0.3,\n",
    "                 flow_bound=1.,\n",
    "                 randPerm=False,\n",
    "                 \n",
    "                 device=device,\n",
    "                 dtype=torch.float32,\n",
    "                 eps=1e-4)\n",
    "\n",
    "if device == torch.device('cuda'):\n",
    "    print('move to cuda')\n",
    "    tr_flow = tr_flow.cuda()"
   ]
  },
  {
   "cell_type": "code",
   "execution_count": 8,
   "id": "76bc0cc6",
   "metadata": {
    "tags": []
   },
   "outputs": [
    {
     "name": "stderr",
     "output_type": "stream",
     "text": [
      "/home/user/micromamba/lib/python3.9/site-packages/zuko/transforms.py:425: UserWarning: torch.searchsorted(): input value tensor is non-contiguous, this will lower the performance due to extra data copy when converting non-contiguous tensor to contiguous, please use contiguous input value tensor if possible. This message will only appear once per program. (Triggered internally at /opt/conda/conda-bld/pytorch_1670525539683/work/aten/src/ATen/native/BucketizationUtils.h:33.)\n",
      "  return torch.searchsorted(seq, value[..., None]).squeeze(dim=-1)\n"
     ]
    },
    {
     "name": "stdout",
     "output_type": "stream",
     "text": [
      "torch.Size([1000, 10])\n",
      "torch.Size([1000, 10])\n",
      "torch.Size([1000, 10])\n"
     ]
    }
   ],
   "source": [
    "avg_flow_prob_pt, flow_prob_pt_batch, flow_prob_pt, \\\n",
    "avg_flow_prob_eta, flow_prob_eta_batch, flow_prob_eta, \\\n",
    "avg_flow_prob_phi, flow_prob_phi_batch, flow_prob_phi = tr_flow(scaledLogReco[:,:,:7], scaledLogParton, boostReco, maskedReco, maskBoost,\n",
    "                                             10)"
   ]
  },
  {
   "cell_type": "code",
   "execution_count": 10,
   "id": "7ca4e57e-4703-45d0-ada9-22f23c3211d5",
   "metadata": {
    "tags": []
   },
   "outputs": [
    {
     "name": "stdout",
     "output_type": "stream",
     "text": [
      ">>Loading datasets\n",
      "Loading partons in LAB\n",
      "PartonLevel LAB\n",
      "Reading parton_level Files\n",
      "Load logScaled_data_higgs_t_tbar_ISR\n",
      "Parton: Move tensors to device (cuda) memory\n",
      "Loading reco in LAB\n",
      "RecoLevel LAB\n",
      "Reading reco_level Files\n",
      "Load scaledLogRecoParticles\n",
      "Reco: Move tensors to device (cuda) memory\n",
      "Loaded datasets:  ['partons_lab', 'reco_lab']\n"
     ]
    }
   ],
   "source": [
    "world_size = None\n",
    "\n",
    "data = dataset_all.DatasetCombined(root_lxplus, dtype=torch.float64, dev=device, datasets=[\"partons_lab\", \"reco_lab\"],\n",
    "                                    reco_list_lab=['scaledLogRecoParticles', 'mask_lepton',\n",
    "                                                'mask_jets','mask_met',\n",
    "                                                'mask_boost', 'data_boost'],\n",
    "                                    parton_list_lab=['logScaled_data_higgs_t_tbar_ISR'])\n",
    "\n",
    "trainingLoader = DataLoader(\n",
    "        data,\n",
    "        batch_size= 32,\n",
    "        shuffle=False if world_size is not None else True,\n",
    "        sampler=DistributedSampler(train_dataset) if world_size is not None else None,\n",
    "\n",
    "    )\n",
    "\n",
    "log_mean_reco = data.reco_lab.meanRecoParticles\n",
    "log_std_reco = data.reco_lab.stdRecoParticles\n",
    "\n",
    "if device == torch.device('cuda'):\n",
    "    log_mean_reco = log_mean_reco.cuda()\n",
    "    log_std_reco = log_std_reco.cuda()"
   ]
  },
  {
   "cell_type": "code",
   "execution_count": 11,
   "id": "583fabe6-722f-4cb7-923d-de4334e6efe1",
   "metadata": {
    "tags": []
   },
   "outputs": [],
   "source": [
    "def unscale_pt(logScaled_reco, mask_recoParticles, log_mean_reco, log_std_reco, no_max_objects):\n",
    "    unscaled_pt = torch.exp(logScaled_reco[:,:no_max_objects,0]*log_std_reco[0] + log_mean_reco[0]) - 1\n",
    "    unscaled_pt = unscaled_pt*mask_recoParticles[:,:no_max_objects] # set masked objects to 0\n",
    "    return unscaled_pt\n",
    "\n",
    "def alter_variables(difference, object_no, variable_altered, target_var, log_mean, log_std, no_max_objects,\n",
    "                   is_pt=False, device=torch.device('cpu')):\n",
    "    # object_no: number of the object/objects that I want to alter\n",
    "    # variable altered: 0 for pt; 1 for eta and 2 for phi\n",
    "\n",
    "    unscaled_var = target_var # need prov when compute the log_prob\n",
    "    unscaled_var[:,:,:3] = target_var[:,:,:3]*log_std + log_mean # unscale\n",
    "    unscaled_var[:,:,0] = torch.exp(unscaled_var[:,:,0]) - 1 # unscale pt\n",
    "\n",
    "    for i, object in enumerate(object_no):\n",
    "        for j, var in enumerate(variable_altered):\n",
    "            unscaled_var[:, object, var] = unscaled_var[:, object, var] + difference[i*len(object_no) + j] # add difference for each var\n",
    "        \n",
    "    unscaled_var[:,:,0] = torch.log(unscaled_var[:,:,0] + 1) # log pt\n",
    "\n",
    "    logScaled_var = unscaled_var\n",
    "    unscaled_var[:,:,:3] = (unscaled_var[:,:,:3] - log_mean)/log_std # scale back\n",
    "            \n",
    "    return logScaled_var\n",
    "    \n",
    "\n",
    "def compute_loss_per_pt(loss_per_pt, flow_pr, scaledLogReco, maskedReco, log_mean_reco, log_std_reco, no_max_objects,\n",
    "                        pt_bins=[5, 50, 75, 100, 150, 200, 300, 1500, 3000]):\n",
    "    unscaled_pt = unscale_pt(scaledLogReco, maskedReco, log_mean_reco, log_std_reco, no_max_objects)\n",
    "\n",
    "    for i in range(len(pt_bins) - 1):\n",
    "        mask_pt_greater = unscaled_pt > pt_bins[i]\n",
    "        mask_pt_lower = unscaled_pt < pt_bins[i+1]\n",
    "        mask_pt = torch.logical_and(mask_pt_greater, mask_pt_lower)\n",
    "        #print(torch.count_nonzero(mask_pt))\n",
    "        if torch.count_nonzero(mask_pt) == 0:\n",
    "            loss_per_pt[i] =  0\n",
    "        else:\n",
    "            loss_per_pt[i] =  -1*flow_pr[mask_pt].mean()\n",
    "\n",
    "    return loss_per_pt\n",
    "\n",
    "\n"
   ]
  },
  {
   "cell_type": "code",
   "execution_count": 16,
   "id": "1a4bcebb-fee7-49c7-b568-2beb7a40b447",
   "metadata": {
    "tags": []
   },
   "outputs": [
    {
     "name": "stdout",
     "output_type": "stream",
     "text": [
      "torch.Size([32, 18, 7])\n",
      "torch.Size([32, 18])\n",
      "torch.Size([32, 18, 7])\n",
      "torch.Size([32, 18])\n",
      "torch.Size([32, 18, 7])\n",
      "torch.Size([32, 18])\n"
     ]
    },
    {
     "data": {
      "image/png": "[encoded data removed]",
      "text/plain": [
       "<Figure size 700x600 with 1 Axes>"
      ]
     },
     "metadata": {},
     "output_type": "display_data"
    },
    {
     "data": {
      "image/png": "[encoded data removed]",
      "text/plain": [
       "<Figure size 700x600 with 1 Axes>"
      ]
     },
     "metadata": {},
     "output_type": "display_data"
    },
    {
     "data": {
      "image/png": "[encoded data removed]",
      "text/plain": [
       "<Figure size 700x600 with 1 Axes>"
      ]
     },
     "metadata": {},
     "output_type": "display_data"
    },
    {
     "data": {
      "image/png": "[encoded data removed]",
      "text/plain": [
       "<Figure size 700x600 with 1 Axes>"
      ]
     },
     "metadata": {},
     "output_type": "display_data"
    },
    {
     "data": {
      "image/png": "[encoded data removed]",
      "text/plain": [
       "<Figure size 700x600 with 1 Axes>"
      ]
     },
     "metadata": {},
     "output_type": "display_data"
    },
    {
     "data": {
      "image/png": "[encoded data removed]",
      "text/plain": [
       "<Figure size 700x600 with 1 Axes>"
      ]
     },
     "metadata": {},
     "output_type": "display_data"
    }
   ],
   "source": [
    "no_max_objects = 12\n",
    "\n",
    "tr_flow = TransferFlow_Paper(no_recoVars=7, no_partonVars=3,\n",
    "                 \n",
    "                 transformer_input_features=16,\n",
    "                 transformer_nhead=2,\n",
    "                 transformer_num_encoder_layers=1,\n",
    "                 transformer_num_decoder_layers=1,\n",
    "                 transformer_dim_feedforward=32,\n",
    "                 transformer_activation=nn.GELU(),\n",
    "                 \n",
    "                 flow_nfeatures=1,\n",
    "                 flow_ntransforms=5,\n",
    "                 flow_hiddenMLP_NoLayers=4,\n",
    "                 flow_hiddenMLP_LayerDim=128,\n",
    "                 flow_bins=16,\n",
    "                 flow_autoregressive=True,\n",
    "                 flow_base='DiagNormal',\n",
    "                 flow_base_first_arg=-1,\n",
    "                 flow_base_second_arg=1,\n",
    "                 flow_bound=1.,\n",
    "                 randPerm=False,\n",
    "                 no_max_objects=no_max_objects,\n",
    "                 \n",
    "                 device=device,\n",
    "                 dtype=torch.float32,\n",
    "                 eps=1e-4)\n",
    "tr_flow = tr_flow.cuda()\n",
    "\n",
    "optimizer = optim.Adam(list(tr_flow.parameters()) , lr=0.00001)\n",
    "N_train = 0\n",
    "ii = 0\n",
    "\n",
    "pt_bins=[5, 50, 75, 100, 150, 200, 300, 1500]\n",
    "loss_total_each_object = torch.zeros(no_max_objects, device=device)\n",
    "loss_per_pt = torch.zeros(len(pt_bins) - 1, device=device)\n",
    "total_loss_per_pt = torch.zeros(len(pt_bins) - 1, device=device)\n",
    "\n",
    "for i, data_batch in enumerate(trainingLoader):\n",
    "            N_train += 1\n",
    "            ii+=1\n",
    "\n",
    "            optimizer.zero_grad()\n",
    "\n",
    "            (logScaled_partons,\n",
    "             logScaled_reco, mask_lepton,\n",
    "             mask_jets, mask_met,\n",
    "             mask_boost, data_boost_reco) = data_batch\n",
    "                \n",
    "            mask_recoParticles = torch.cat((mask_jets, mask_lepton, mask_met), dim=1)\n",
    "            if True:\n",
    "                logScaled_reco = logScaled_reco[:,:,:-1]\n",
    "            \n",
    "            # The provenance is remove in the model\n",
    "            # The provenance is remove in the model\n",
    "            avg_flow_prob_pt, flow_prob_pt_batch, flow_prob_pt, \\\n",
    "            avg_flow_prob_eta, flow_prob_eta_batch, flow_prob_eta, \\\n",
    "            avg_flow_prob_phi, flow_prob_phi_batch, flow_prob_phi   = tr_flow(logScaled_reco,\n",
    "                                                                                    logScaled_partons,\n",
    "                                                                                    data_boost_reco,\n",
    "                                                                                    mask_recoParticles,\n",
    "                                                                                    mask_boost,\n",
    "                                                                                    device=device)\n",
    "\n",
    "\n",
    "            loss_main = -avg_flow_prob_pt - avg_flow_prob_eta - avg_flow_prob_phi\n",
    "            batch_flow_pr = +flow_prob_pt_batch + flow_prob_phi_batch + flow_prob_eta_batch\n",
    "            flow_pr = +flow_prob_pt + flow_prob_eta + flow_prob_phi\n",
    "            \n",
    "            loss_Sum_each_object = torch.sum(-1*flow_pr*mask_recoParticles[:,:no_max_objects], dim=0)\n",
    "            number_MaskedObjects = torch.sum(mask_recoParticles[:,:no_max_objects], dim=0)\n",
    "            loss_mean_each_object = torch.div(loss_Sum_each_object, number_MaskedObjects)\n",
    "\n",
    "            loss_mean_each_object = torch.nan_to_num(loss_mean_each_object, nan=0.0)\n",
    "            if torch.isnan(loss_mean_each_object).any() or torch.isinf(loss_mean_each_object).any():\n",
    "                print(f'ii= {ii} loss_mean_each_object: nans = {torch.count_nonzero(torch.isnan(loss_mean_each_object))}     infs = {torch.count_nonzero(torch.isinf(loss_mean_each_object))}')\n",
    "                break\n",
    "            \n",
    "            loss_total_each_object = torch.add(loss_total_each_object, loss_mean_each_object)\n",
    "\n",
    "            loss_per_pt = compute_loss_per_pt(loss_per_pt, flow_pr, logScaled_reco, mask_recoParticles, log_mean_reco, log_std_reco, no_max_objects,\n",
    "                        pt_bins=pt_bins)\n",
    "            total_loss_per_pt = torch.add(total_loss_per_pt, loss_per_pt)\n",
    "\n",
    "            if torch.isnan(loss_total_each_object).any() or torch.isinf(loss_total_each_object).any():\n",
    "                print(f'ii= {ii} Training_Total: nans = {torch.count_nonzero(torch.isnan(loss_total_each_object))}     infs = {torch.count_nonzero(torch.isinf(loss_total_each_object))}')\n",
    "                break\n",
    "\n",
    "            if torch.isnan(total_loss_per_pt).any() or torch.isinf(total_loss_per_pt).any():\n",
    "                print(f'ii= {ii} Training_pt: nans = {torch.count_nonzero(torch.isnan(total_loss_per_pt))}       infs = {torch.count_nonzero(torch.isinf(total_loss_per_pt))}')\n",
    "                break\n",
    "                    \n",
    "            loss_main.backward()\n",
    "            optimizer.step()\n",
    "            #sum_loss += loss_main.item()\n",
    "            \n",
    "            if i == 0:\n",
    "                    random = torch.rand(4)\n",
    "                    sign_1 = 1 if random[0] > 0.5 else -1\n",
    "                    sign_2 = 1 if random[2] > 0.5 else -1\n",
    "\n",
    "                    difference_pt = [sign_1*random[1].item()*25]\n",
    "                    difference_eta = [sign_2*random[3].item()*3]\n",
    "                \n",
    "                    # wrong pt\n",
    "                    wrong_logScaled_reco = alter_variables(difference=difference_pt,\n",
    "                                            object_no=[0],\n",
    "                                            variable_altered=[0],\n",
    "                                            target_var=logScaled_reco, \n",
    "                                            log_mean=log_mean_reco, \n",
    "                                            log_std=log_std_reco, \n",
    "                                            no_max_objects=no_max_objects,\n",
    "                                            device=device)\n",
    "                                        \n",
    "                    wrongPT_avg_flow_prob_pt, wrongPT_flow_prob_pt_batch, wrongPT_flow_prob_pt, \\\n",
    "                    wrongPT_avg_flow_prob_eta, wrongPT_flow_prob_eta_batch, wrongPT_flow_prob_eta, \\\n",
    "                    wrongPT_avg_flow_prob_phi, wrongPT_flow_prob_phi_batch, wrongPT_flow_prob_phi   = tr_flow(wrong_logScaled_reco,\n",
    "                                                                                                                logScaled_partons,\n",
    "                                                                                                                data_boost_reco,\n",
    "                                                                                                                mask_recoParticles,\n",
    "                                                                                                                mask_boost,\n",
    "                                                                                                                device=device)\n",
    "                    \n",
    "                    wrong_pt_batch_flow_pr = +wrongPT_flow_prob_pt_batch  + wrongPT_flow_prob_eta_batch + wrongPT_flow_prob_phi_batch\n",
    "\n",
    "                    # wrong pt and eta\n",
    "                    wrong_logScaled_reco = alter_variables(difference=difference_eta, \n",
    "                                            object_no=[1],\n",
    "                                            variable_altered=[1],\n",
    "                                            target_var=wrong_logScaled_reco,\n",
    "                                            log_mean=log_mean_reco, \n",
    "                                            log_std=log_std_reco, \n",
    "                                            no_max_objects=no_max_objects,\n",
    "                                            device=device)\n",
    "                    \n",
    "                    wrongPTandETA_avg_flow_prob_pt, wrongPTandETA_flow_prob_pt_batch, wrongPTandETA_flow_prob_pt, \\\n",
    "                    wrongPTandETA_avg_flow_prob_eta, wrongPTandETA_flow_prob_eta_batch, wrongPTandETA_flow_prob_eta, \\\n",
    "                    wrongPTandETA_avg_flow_prob_phi, wrongPTandETA_flow_prob_phi_batch, wrongPTandETA_flow_prob_phi   = tr_flow(wrong_logScaled_reco,\n",
    "                                                                                                            logScaled_partons,\n",
    "                                                                                                            data_boost_reco,\n",
    "                                                                                                            mask_recoParticles,\n",
    "                                                                                                            mask_boost,\n",
    "                                                                                                            device=device)\n",
    "                    \n",
    "                    wrong_ptAndEta_batch_flow_pr = +wrongPTandETA_flow_prob_pt_batch + wrongPTandETA_flow_prob_eta_batch + wrongPTandETA_flow_prob_phi_batch\n",
    "\n",
    "                    # sometimes there are nans if the difference_pt is too large\n",
    "                    if torch.isnan(wrong_pt_batch_flow_pr).any() or torch.isnan(wrong_ptAndEta_batch_flow_pr).any():\n",
    "                        print(f'validation_plots_nans: wrong_pt = {torch.count_nonzero(torch.isnan(wrong_pt_flow_pr))}     & wrong_pt_eta = {torch.count_nonzero(torch.isnan(wrong_ptAndEta_flow_pr))}')\n",
    "\n",
    "\n",
    "                    # Valid 1             \n",
    "                    fig, ax = plt.subplots(figsize=(7,6), dpi=100)\n",
    "                    ax.hist(batch_flow_pr.detach().cpu().numpy(), range=(-60,15), bins=75, histtype='step', label='target', color='b', stacked=False, fill=False)\n",
    "                    ax.hist(wrong_pt_batch_flow_pr.detach().cpu().numpy(), range=(-60,15), bins=75, histtype='step', label=f'diff: pt_0  {difference_pt}', color='r', stacked=False, fill=False)\n",
    "                    plt.legend()\n",
    "                    ax.set_xlabel('+ logprob')\n",
    "                    #exp.log_figure(f\"validation_figure_1\", fig, step=e)\n",
    "                    \n",
    "                    # Valid 2\n",
    "                    fig, ax = plt.subplots(figsize=(7,6), dpi=100)\n",
    "                    ax.hist(wrong_pt_batch_flow_pr.detach().cpu().numpy(), range=(-60,15), bins=75, histtype='step', label=f'diff: pt_0  {difference_pt}', color='r', stacked=False, fill=False)\n",
    "                    ax.hist(wrong_ptAndEta_batch_flow_pr.detach().cpu().numpy(), range=(-60,15), bins=75, histtype='step', label=f'diff: pt_0  {difference_pt} and eta_1 {difference_eta}', color='g', stacked=False, fill=False)\n",
    "                    plt.legend()\n",
    "                    ax.set_xlabel('+ logprob')\n",
    "                    #exp.log_figure(f\"validation_figure_2\", fig, step=e)\n",
    "\n",
    "                    # Diff valid 1      \n",
    "                    fig, ax = plt.subplots(figsize=(7,6), dpi=100)\n",
    "                    ax.hist((batch_flow_pr - wrong_pt_batch_flow_pr).detach().cpu().numpy(), range=(-5,5), bins=20, histtype='step', color='b', stacked=False, fill=False)\n",
    "                    ax.set_xlabel('target - pt_altered (logprob)')\n",
    "                    #exp.log_figure(f\"Diff_log_prob_1\", fig, step=e)\n",
    "                    \n",
    "\n",
    "                    # Diff valid 2          \n",
    "                    fig, ax = plt.subplots(figsize=(7,6), dpi=100)\n",
    "                    ax.hist((batch_flow_pr - wrong_ptAndEta_batch_flow_pr).detach().cpu().numpy(), range=(-5,5), bins=20, histtype='step', color='b', stacked=False, fill=False)\n",
    "                    ax.set_xlabel('pt_altered - ptAndEta_altered (logprob)')\n",
    "                    #exp.log_figure(f\"Diff_log_prob_2\", fig, step=e)\n",
    "\n",
    "                    # Correct vs wrong 1\n",
    "                    correct_model_1 = batch_flow_pr > wrong_pt_batch_flow_pr\n",
    "                    no_correct_1 = torch.count_nonzero(correct_model_1).cpu().numpy()\n",
    "                    no_wrong_1 = len(batch_flow_pr) - no_correct_1\n",
    "        \n",
    "                    fig, ax = plt.subplots(figsize=(7,6), dpi=100)\n",
    "                    ax.bar([\"correct\", \"wrong\"], [no_correct_1, no_wrong_1], color ='maroon', width = 0.4)\n",
    "                    #exp.log_figure(f\"Correct_wrong_1\", fig, step=e)\n",
    "\n",
    "                    # Correct vs wrong 2\n",
    "                    correct_model_2 = wrong_pt_batch_flow_pr > wrong_ptAndEta_batch_flow_pr\n",
    "                    no_correct_2 = torch.count_nonzero(correct_model_2).cpu().numpy()\n",
    "                    no_wrong_2 = len(batch_flow_pr) - no_correct_2\n",
    "\n",
    "                    fig, ax = plt.subplots(figsize=(7,6), dpi=100)\n",
    "                    ax.bar([\"correct\", \"wrong\"], [no_correct_2, no_wrong_2], color ='maroon', width = 0.4)\n",
    "                    #exp.log_figure(f\"Correct_wrong_2\", fig, step=e)\n",
    "                    \n",
    "                    break"
   ]
  },
  {
   "cell_type": "markdown",
   "id": "504b116d-6efa-4e05-8be7-a741881e4687",
   "metadata": {},
   "source": [
    "# Transfer Flow - Idea 3"
   ]
  },
  {
   "cell_type": "code",
   "execution_count": 89,
   "id": "b30fa3a9-22b6-406f-96be-1184f97cbce8",
   "metadata": {
    "tags": []
   },
   "outputs": [],
   "source": [
    "class TransferFlow_idea3(nn.Module):\n",
    "    def __init__(self,\n",
    "                 no_recoVars, no_partonVars,\n",
    "                 no_recoObjects=18,\n",
    "                 \n",
    "                 transformer_input_features=64,\n",
    "                 transformer_nhead=8,\n",
    "                 transformer_num_encoder_layers=4,\n",
    "                 transformer_num_decoder_layers=4,\n",
    "                 transformer_dim_feedforward=128,\n",
    "                 transformer_activation=nn.GELU(),\n",
    "                 \n",
    "                 flow_ntransforms=5,\n",
    "                 flow_hiddenMLP_NoLayers=4,\n",
    "                 flow_hiddenMLP_LayerDim=128,\n",
    "                 flow_bins=16,\n",
    "                 flow_autoregressive=True,\n",
    "                 flow_base=BoxUniform,\n",
    "                 flow_base_first_arg=-1,\n",
    "                 flow_base_second_arg=1,\n",
    "                 flow_bound=1.,\n",
    "                 randPerm=False,\n",
    "                 no_max_objects=10,\n",
    "                 \n",
    "                 device=torch.device('cpu'),\n",
    "                 dtype=torch.float32,\n",
    "                 eps=1e-4):\n",
    "\n",
    "        super(TransferFlow_idea3, self).__init__()\n",
    "        \n",
    "        self.device = device\n",
    "        self.dtype = dtype\n",
    "        self.eps = eps # used for small values like the mass of the gluon for numerical reasons\n",
    "        \n",
    "        self.linearDNN_reco = nn.Linear(in_features=no_recoVars, out_features=transformer_input_features)\n",
    "        self.linearDNN_parton = nn.Linear(in_features=no_partonVars, out_features=transformer_input_features)\n",
    "        self.linearDNN_boost = nn.Linear(in_features=4, out_features=transformer_input_features)\n",
    "        self.gelu = nn.GELU()\n",
    "        self.no_max_objects = no_max_objects\n",
    "        \n",
    "        self.transformer_model = nn.Transformer(d_model=transformer_input_features,\n",
    "                                                nhead=transformer_nhead,\n",
    "                                                num_encoder_layers=transformer_num_encoder_layers,\n",
    "                                                num_decoder_layers=transformer_num_decoder_layers,\n",
    "                                                dim_feedforward=transformer_dim_feedforward,\n",
    "                                                activation=transformer_activation,\n",
    "                                                batch_first=True)\n",
    "\n",
    "        \n",
    "        self.flow = zuko.flows.NSF(features=transformer_input_features,\n",
    "                              context=0,\n",
    "                              transforms=flow_ntransforms, \n",
    "                              bins=flow_bins, \n",
    "                              hidden_features=[flow_hiddenMLP_LayerDim]*flow_hiddenMLP_NoLayers, \n",
    "                              randperm=randPerm,\n",
    "                              base=eval(flow_base),\n",
    "                              base_args=[torch.ones(transformer_input_features)*flow_base_first_arg, torch.ones(transformer_input_features)*flow_base_second_arg],\n",
    "                                   univariate_kwargs={\"bound\": flow_bound }, # Keeping the flow in the [-B,B] box.\n",
    "                              passes= 2 if not flow_autoregressive else transformer_input_features)\n",
    "        \n",
    "        \n",
    "    def forward(self,  scaling_reco_lab, scaling_partons_lab, scaling_RegressedBoost_lab, mask_reco, mask_boost):\n",
    "        \n",
    "        scaledLogReco_afterLin = self.gelu(self.linearDNN_reco(scaling_reco_lab) * mask_reco[..., None])\n",
    "        scaledLogParton_afterLin = self.gelu(self.linearDNN_parton(scaling_partons_lab))\n",
    "\n",
    "        # not autoregressive this time\n",
    "        output_decoder = self.transformer_model(scaledLogParton_afterLin, scaledLogReco_afterLin)\n",
    "        \n",
    "        # sum all the objects and divide by the number of unmasked objects\n",
    "        conditioning_event = torch.sum(output_decoder*mask_reco[...,None], dim=1)\n",
    "        no_obj_ev = torch.sum(mask_reco, dim=1)\n",
    "        conditioning_event = torch.div(conditioning_event, no_obj_ev[..., None])\n",
    "        \n",
    "        flow_prob = self.flow().log_prob(conditioning_event)\n",
    "\n",
    "        return flow_prob"
   ]
  },
  {
   "cell_type": "code",
   "execution_count": 90,
   "id": "261df1e9-98f7-4ef5-92ed-6994c2c641e5",
   "metadata": {
    "tags": []
   },
   "outputs": [
    {
     "name": "stdout",
     "output_type": "stream",
     "text": [
      "move to cuda\n"
     ]
    }
   ],
   "source": [
    "tr_flow = TransferFlow_idea3(no_recoVars=7, no_partonVars=3,\n",
    "                 transformer_input_features=8,\n",
    "                 \n",
    "                 transformer_nhead=2,\n",
    "                 transformer_num_encoder_layers=1,\n",
    "                 transformer_num_decoder_layers=1,\n",
    "                 transformer_dim_feedforward=64,\n",
    "                 transformer_activation=nn.GELU(),\n",
    "                 no_max_objects=12,\n",
    "                 \n",
    "                 flow_ntransforms=5,\n",
    "                 flow_hiddenMLP_NoLayers=2,\n",
    "                 flow_hiddenMLP_LayerDim=16,\n",
    "                 flow_bins=16,\n",
    "                 flow_autoregressive=True,\n",
    "                 flow_base='DiagNormal',\n",
    "                 flow_base_first_arg=0,\n",
    "                 flow_base_second_arg=0.3,\n",
    "                 flow_bound=1.,\n",
    "                 randPerm=False,\n",
    "                 \n",
    "                 device=device,\n",
    "                 dtype=torch.float32,\n",
    "                 eps=1e-4)\n",
    "\n",
    "if device == torch.device('cuda'):\n",
    "    print('move to cuda')\n",
    "    tr_flow = tr_flow.cuda()"
   ]
  },
  {
   "cell_type": "code",
   "execution_count": 91,
   "id": "2a429890-af60-486c-a9b9-712180bf82e6",
   "metadata": {
    "tags": []
   },
   "outputs": [
    {
     "name": "stdout",
     "output_type": "stream",
     "text": [
      "torch.Size([128])\n"
     ]
    }
   ],
   "source": [
    "flow_pr = tr_flow(scaledLogReco[:,:,:7], scaledLogParton, boostReco, maskedReco, maskBoost)\n",
    "print(flow_pr.shape)"
   ]
  },
  {
   "cell_type": "markdown",
   "id": "a66d0635-d915-4d05-9b7a-530034828af2",
   "metadata": {},
   "source": [
    "# Transfer Flow - Idea 3 with conditioning"
   ]
  },
  {
   "cell_type": "code",
   "execution_count": 86,
   "id": "d92a35f7-dc1f-4010-8639-332c3e484fec",
   "metadata": {
    "tags": []
   },
   "outputs": [],
   "source": [
    "class TransferFlow_idea3_conditioning(nn.Module):\n",
    "    def __init__(self,\n",
    "                 no_recoVars, no_partonVars,\n",
    "                 no_recoObjects=18,\n",
    "                 \n",
    "                 transformer_input_features=64,\n",
    "                 transformer_nhead=8,\n",
    "                 transformer_num_encoder_layers=4,\n",
    "                 transformer_num_decoder_layers=4,\n",
    "                 transformer_dim_feedforward=128,\n",
    "                 transformer_activation=nn.GELU(),\n",
    "                 \n",
    "                 flow_ntransforms=5,\n",
    "                 flow_hiddenMLP_NoLayers=4,\n",
    "                 flow_hiddenMLP_LayerDim=128,\n",
    "                 flow_bins=16,\n",
    "                 flow_autoregressive=True,\n",
    "                 flow_base=BoxUniform,\n",
    "                 flow_base_first_arg=-1,\n",
    "                 flow_base_second_arg=1,\n",
    "                 flow_bound=1.,\n",
    "                 randPerm=False,\n",
    "                 no_max_objects=10,\n",
    "                 \n",
    "                 device=torch.device('cpu'),\n",
    "                 dtype=torch.float32,\n",
    "                 eps=1e-4):\n",
    "\n",
    "        super(TransferFlow_idea3_conditioning, self).__init__()\n",
    "        \n",
    "        self.device = device\n",
    "        self.dtype = dtype\n",
    "        self.eps = eps # used for small values like the mass of the gluon for numerical reasons\n",
    "        \n",
    "        self.linearDNN_reco = nn.Linear(in_features=no_recoVars, out_features=transformer_input_features)\n",
    "        self.linearDNN_parton = nn.Linear(in_features=no_partonVars, out_features=transformer_input_features)\n",
    "        self.linearDNN_boost = nn.Linear(in_features=4, out_features=transformer_input_features)\n",
    "        self.gelu = nn.GELU()\n",
    "        self.no_max_objects = no_max_objects\n",
    "        \n",
    "        self.transformer_model = nn.Transformer(d_model=transformer_input_features,\n",
    "                                                nhead=transformer_nhead,\n",
    "                                                num_encoder_layers=transformer_num_encoder_layers,\n",
    "                                                num_decoder_layers=transformer_num_decoder_layers,\n",
    "                                                dim_feedforward=transformer_dim_feedforward,\n",
    "                                                activation=transformer_activation,\n",
    "                                                batch_first=True)\n",
    "\n",
    "        \n",
    "        self.flow = zuko.flows.NSF(features=transformer_input_features,\n",
    "                              context=12, # 4 partons and 3 variables\n",
    "                              transforms=flow_ntransforms, \n",
    "                              bins=flow_bins, \n",
    "                              hidden_features=[flow_hiddenMLP_LayerDim]*flow_hiddenMLP_NoLayers, \n",
    "                              randperm=randPerm,\n",
    "                              base=eval(flow_base),\n",
    "                              base_args=[torch.ones(transformer_input_features)*flow_base_first_arg, torch.ones(transformer_input_features)*flow_base_second_arg],\n",
    "                                   univariate_kwargs={\"bound\": flow_bound }, # Keeping the flow in the [-B,B] box.\n",
    "                              passes= 2 if not flow_autoregressive else transformer_input_features)\n",
    "        \n",
    "        \n",
    "    def forward(self,  scaling_reco_lab, scaling_partons_lab, scaling_RegressedBoost_lab, mask_reco, mask_boost):\n",
    "        \n",
    "        scaledLogReco_afterLin = self.gelu(self.linearDNN_reco(scaling_reco_lab) * mask_reco[..., None])\n",
    "        scaledLogParton_afterLin = self.gelu(self.linearDNN_parton(scaling_partons_lab))\n",
    "\n",
    "        # not autoregressive this time\n",
    "        output_decoder = self.transformer_model(scaledLogParton_afterLin, scaledLogReco_afterLin)\n",
    "        \n",
    "        # sum all the objects and divide by the number of unmasked objects\n",
    "        conditioning_event = torch.sum(output_decoder*mask_reco[...,None], dim=1)\n",
    "        no_obj_ev = torch.sum(mask_reco, dim=1)\n",
    "        conditioning_event = torch.div(conditioning_event, no_obj_ev[..., None])\n",
    "        \n",
    "        scaled_partons_lab_flat = torch.flatten(scaling_partons_lab, start_dim=1)\n",
    "        print(scaled_partons_lab_flat.shape)\n",
    "        \n",
    "        flow_prob = self.flow(scaled_partons_lab_flat).log_prob(conditioning_event)\n",
    "\n",
    "        return flow_prob"
   ]
  },
  {
   "cell_type": "code",
   "execution_count": 87,
   "id": "2e5be2bf-c8c8-4ca9-9737-24fd4cebfc17",
   "metadata": {
    "tags": []
   },
   "outputs": [
    {
     "name": "stdout",
     "output_type": "stream",
     "text": [
      "move to cuda\n"
     ]
    }
   ],
   "source": [
    "tr_flow = TransferFlow_idea3_conditioning(no_recoVars=7, no_partonVars=3,\n",
    "                 transformer_input_features=8,\n",
    "                 \n",
    "                 transformer_nhead=2,\n",
    "                 transformer_num_encoder_layers=1,\n",
    "                 transformer_num_decoder_layers=1,\n",
    "                 transformer_dim_feedforward=64,\n",
    "                 transformer_activation=nn.GELU(),\n",
    "                 no_max_objects=12,\n",
    "                 \n",
    "                 flow_ntransforms=5,\n",
    "                 flow_hiddenMLP_NoLayers=2,\n",
    "                 flow_hiddenMLP_LayerDim=16,\n",
    "                 flow_bins=16,\n",
    "                 flow_autoregressive=True,\n",
    "                 flow_base='DiagNormal',\n",
    "                 flow_base_first_arg=0,\n",
    "                 flow_base_second_arg=0.3,\n",
    "                 flow_bound=1.,\n",
    "                 randPerm=False,\n",
    "                 \n",
    "                 device=device,\n",
    "                 dtype=torch.float32,\n",
    "                 eps=1e-4)\n",
    "\n",
    "if device == torch.device('cuda'):\n",
    "    print('move to cuda')\n",
    "    tr_flow = tr_flow.cuda()"
   ]
  },
  {
   "cell_type": "code",
   "execution_count": 88,
   "id": "a7efaad4-3e64-445c-965b-4bdb36255cd7",
   "metadata": {
    "tags": []
   },
   "outputs": [
    {
     "name": "stdout",
     "output_type": "stream",
     "text": [
      "torch.Size([128, 12])\n",
      "torch.Size([128])\n"
     ]
    }
   ],
   "source": [
    "flow_pr = tr_flow(scaledLogReco[:,:,:7], scaledLogParton, boostReco, maskedReco, maskBoost)\n",
    "print(flow_pr.shape)"
   ]
  },
  {
   "cell_type": "code",
   "execution_count": null,
   "id": "61bb9cbd-8912-4a56-a27f-a4c2f1d3a707",
   "metadata": {},
   "outputs": [],
   "source": []
  }
 ],
 "metadata": {
  "kernelspec": {
   "display_name": "myenv",
   "language": "python",
   "name": "myenv"
  },
  "language_info": {
   "codemirror_mode": {
    "name": "ipython",
    "version": 3
   },
   "file_extension": ".py",
   "mimetype": "text/x-python",
   "name": "python",
   "nbconvert_exporter": "python",
   "pygments_lexer": "ipython3",
   "version": "3.9.17"
  }
 },
 "nbformat": 4,
 "nbformat_minor": 5
}
