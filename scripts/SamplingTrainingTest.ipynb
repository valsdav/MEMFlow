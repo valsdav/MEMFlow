{
 "cells": [
  {
   "cell_type": "code",
   "execution_count": 1,
   "id": "3368be21-9c0e-4d1e-b64b-638e1933dfc5",
   "metadata": {},
   "outputs": [
    {
     "data": {
      "text/plain": [
       "<torch.autograd.anomaly_mode.set_detect_anomaly at 0x7f212fdb9d30>"
      ]
     },
     "execution_count": 1,
     "metadata": {},
     "output_type": "execute_result"
    }
   ],
   "source": [
    "import os\n",
    "os.environ[\"CUDA_VISIBLE_DEVICES\"] = \"0\"\n",
    "os.environ[\"TORCH_SHOW_CPP_STACKTRACES\"]=\"1\"\n",
    "from memflow.read_data.dataset_all import DatasetCombined\n",
    "from memflow.unfolding_network.conditional_transformer import ConditioningTransformerLayer\n",
    "from memflow.unfolding_flow.utils import *\n",
    "from memflow.unfolding_flow.unfolding_flow import UnfoldingFlow\n",
    "\n",
    "import numpy as np\n",
    "#import scipy.stats as st\n",
    "import torch\n",
    "from torch import optim\n",
    "from torch.utils.data import DataLoader\n",
    "import torch.nn as nn\n",
    "from torch.nn.functional import normalize\n",
    "from torch.optim.lr_scheduler import CosineAnnealingLR\n",
    "\n",
    "import matplotlib.pyplot as plt\n",
    "from matplotlib.colors import LogNorm\n",
    "import matplotlib as mpl\n",
    "from matplotlib import cm\n",
    "\n",
    "from collections import defaultdict\n",
    "from tensorboardX import SummaryWriter\n",
    "from omegaconf import OmegaConf\n",
    "import sys\n",
    "import argparse\n",
    "from pynvml import *\n",
    "from hist import Hist\n",
    "import hist\n",
    "import vector\n",
    "import mplhep\n",
    "import awkward as ak\n",
    "import random\n",
    "import pandas as pd\n",
    "\n",
    "from memflow.read_data.utils import to_flat_tensor\n",
    "#from memflow.phasespace.phasespace import PhaseSpace\n",
    "#from memflow.phasespace import phasespace_mod\n",
    "\n",
    "from utils import FindMasks\n",
    "from utils import SavePlots\n",
    "from utils import plot_regressionFactor\n",
    "\n",
    "\n",
    "from rich.progress import track\n",
    "\n",
    "pi = torch.pi\n",
    "\n",
    "torch.autograd.set_detect_anomaly(True)"
   ]
  },
  {
   "cell_type": "code",
   "execution_count": 2,
   "id": "297ec117-a133-493b-99ed-6044333c408f",
   "metadata": {},
   "outputs": [
    {
     "name": "stdout",
     "output_type": "stream",
     "text": [
      ">>Loading datasets\n",
      "Loading partons in LAB\n",
      "PartonLevel LAB\n",
      "Create new file for partons\n",
      "Create new file for lepton_partons\n",
      "Create new file for boost\n",
      "Create new file for H_thad_tlep_ISR\n",
      "Create new file for H_thad_tlep_ISR_cartesian\n",
      "Create flattening weight\n"
     ]
    },
    {
     "name": "stderr",
     "output_type": "stream",
     "text": [
      "/work/dvalsecc/MEM/MEMFlow/memflow/read_data/Dataset_PartonNoBoost_Level.py:507: RuntimeWarning: divide by zero encountered in divide\n",
      "  (1/ h.values()) * len(higgs)/(Nbins**3),\n"
     ]
    },
    {
     "name": "stdout",
     "output_type": "stream",
     "text": [
      "Create new file for data_higgs_t_tbar_ISR_cartesian_onShell\n",
      "Create new file for PhaseSpace + rambo detJacobian\n",
      "Create new file for PhaseSpace_onShell (no negative values)\n",
      "Create new file for Log_H_thad_tlep_ISR_cartesian\n",
      "Create new file for Log_H_thad_tlep_ISR\n",
      "Reading parton_level Files\n",
      "Load logScaled_data_higgs_t_tbar_ISR\n",
      "Load logScaled_data_boost\n",
      "Parton: Move tensors to device (cpu) memory\n",
      "Loading reco in LAB\n",
      "RecoLevel LAB\n",
      "Reading reco_level Files\n",
      "Load scaledLogBoost\n",
      "Load scaledLogRecoParticles\n",
      "Reco: Move tensors to device (cpu) memory\n",
      "Loading partons in CM\n",
      "PartonLevel CM\n",
      "Create new file for partons\n",
      "Create new file for lepton_partons\n",
      "Create new file for boost\n",
      "Create new file for H_thad_tlep_ISR\n",
      "Create new file for H_thad_tlep_ISR_cartesian\n",
      "Create flattening weight\n"
     ]
    },
    {
     "name": "stderr",
     "output_type": "stream",
     "text": [
      "/work/dvalsecc/MEM/MEMFlow/memflow/read_data/Dataset_Parton_Level.py:572: RuntimeWarning: divide by zero encountered in divide\n",
      "  (1/ h.values()) * len(higgs)/(Nbins**3),\n"
     ]
    },
    {
     "name": "stdout",
     "output_type": "stream",
     "text": [
      "Create new file for data_higgs_t_tbar_ISR_cartesian_onShell\n",
      "Create new file for PhaseSpace + rambo detJacobian\n",
      "Create new file for PhaseSpace_onShell (no negative values)\n",
      "Create new file for Log_H_thad_tlep_ISR_cartesian\n",
      "Create new file for Log_H_thad_tlep_ISR\n",
      "Reading parton_level Files\n",
      "Load phasespace_intermediateParticles_onShell\n",
      "Load phasespace_intermediateParticles_onShell_logit\n",
      "Parton: Move tensors to device (cpu) memory\n",
      "Loaded datasets:  ['partons_lab', 'reco_lab', 'partons_CM']\n"
     ]
    },
    {
     "data": {
      "text/plain": [
       "<All keys matched successfully>"
      ]
     },
     "execution_count": 2,
     "metadata": {},
     "output_type": "execute_result"
    }
   ],
   "source": [
    "batchSize = 1024\n",
    "\n",
    "device = torch.device(\"cuda\") #torch.device(\"cuda\" if torch.cuda.is_available() else \"cpu\") # specify the GPU ids\n",
    "\n",
    "basedir_flow= \"/work/dvalsecc/MEM/models_archive/flow_pretrain_labframe_logit/best/best_flow_logit_v2-auto_DiagNormal_NoTransf10_NoBins40_DNN4_256/\"\n",
    "#basedir_flow= \"/work/dvalsecc/MEM/models_archive/flow_pretrain_labframe_logit/flow_flow_logit_v11-auto_DiagNormal_NoTransf6_NoBins45_DNN5_256\"\n",
    "\n",
    "model_weights = basedir_flow + '/model_flow_logit_v2-auto.pt'\n",
    "path_to_conf = basedir_flow + '/config_flow_logit_v2-auto.yaml'\n",
    "\n",
    "input_dataset_test = '/work/dvalsecc/MEM/datasets/all_jets_fullRun2_ttHbb_forTraining_allyears_spanetprov_part1_train.parquet'\n",
    "\n",
    "with open(path_to_conf) as f:\n",
    "        config = OmegaConf.load(path_to_conf)\n",
    "\n",
    "config\n",
    "\n",
    "data = DatasetCombined(input_dataset_test, dev=torch.device(\"cpu\"),\n",
    "                                    dtype=torch.float64, datasets=['partons_lab', 'reco_lab', 'partons_CM'],\n",
    "                           reco_list_lab=['scaledLogRecoParticles', 'mask_lepton', \n",
    "                                      'mask_jets','mask_met',\n",
    "                                      'mask_boost', 'scaledLogBoost'],\n",
    "                           parton_list_lab=['logScaled_data_higgs_t_tbar_ISR',\n",
    "                                        'logScaled_data_boost',\n",
    "                                        'mean_log_data_higgs_t_tbar_ISR',\n",
    "                                        'std_log_data_higgs_t_tbar_ISR',\n",
    "                                        'mean_log_data_boost',\n",
    "                                            'std_log_data_boost'],\n",
    "                           parton_list_cm=['phasespace_intermediateParticles_onShell_logit',\n",
    "                                           'phasespace_intermediateParticles_onShell_logit_scaled',\n",
    "                                           'phasespace_intermediateParticles_onShell',\n",
    "                                           'mean_phasespace_intermediateParticles_onShell_logit',\n",
    "                                            'std_phasespace_intermediateParticles_onShell_logit',\n",
    "                                          ])\n",
    "\n",
    "\n",
    "\n",
    "log_mean_parton = data.partons_lab.mean_log_data_higgs_t_tbar_ISR.to(device)\n",
    "log_std_parton = data.partons_lab.std_log_data_higgs_t_tbar_ISR.to(device)\n",
    "log_mean_boost = data.partons_lab.mean_log_data_boost.to(device)\n",
    "log_std_boost = data.partons_lab.std_log_data_boost.to(device)\n",
    "mean_ps = data.partons_CM.mean_phasespace_intermediateParticles_onShell_logit.to(device)\n",
    "scale_ps = data.partons_CM.std_phasespace_intermediateParticles_onShell_logit.to(device)\n",
    "\n",
    "# Initialize model\n",
    "model = UnfoldingFlow(\n",
    "                pretrained_model=None,\n",
    "                load_conditioning_model=False,\n",
    "                scaling_partons_lab = [log_mean_parton, log_std_parton],\n",
    "                scaling_boost_lab = [log_mean_boost, log_std_boost],\n",
    "                scaling_partons_CM_ps = [mean_ps, scale_ps],\n",
    "\n",
    "                no_jets=config.input_shape.number_jets,\n",
    "                no_lept=config.input_shape.number_lept,\n",
    "                input_features=config.input_shape.input_features,\n",
    "                cond_hiddenFeatures=config.conditioning_transformer.hidden_features,\n",
    "                cond_dimFeedForward=config.conditioning_transformer.dim_feedforward_transformer,\n",
    "                cond_outFeatures=config.conditioning_transformer.out_features,\n",
    "                cond_nheadEncoder=config.conditioning_transformer.nhead_encoder,\n",
    "                cond_NoLayersEncoder=config.conditioning_transformer.no_layers_encoder,\n",
    "                cond_nheadDecoder=config.conditioning_transformer.nhead_decoder,\n",
    "                cond_NoLayersDecoder=config.conditioning_transformer.no_layers_decoder,\n",
    "                cond_NoDecoders=config.conditioning_transformer.no_decoders,\n",
    "                cond_aggregate=config.conditioning_transformer.aggregate,\n",
    "                cond_use_latent=config.conditioning_transformer.use_latent,\n",
    "                cond_out_features_latent=config.conditioning_transformer.out_features_latent,\n",
    "                cond_no_layers_decoder_latent=config.conditioning_transformer.no_layers_decoder_latent,   \n",
    "    \n",
    "                flow_nfeatures=config.unfolding_flow.nfeatures,\n",
    "                flow_ncond=config.unfolding_flow.ncond, \n",
    "                flow_ntransforms=config.unfolding_flow.ntransforms,\n",
    "                flow_hiddenMLP_NoLayers=config.unfolding_flow.hiddenMLP_NoLayers, \n",
    "                flow_hiddenMLP_LayerDim=config.unfolding_flow.hiddenMLP_LayerDim,\n",
    "                flow_bins=config.unfolding_flow.bins,\n",
    "                flow_autoregressive=config.unfolding_flow.autoregressive,\n",
    "                flow_base=config.unfolding_flow.base,\n",
    "                flow_base_first_arg=config.unfolding_flow.base_first_arg,\n",
    "                flow_base_second_arg=config.unfolding_flow.base_second_arg,\n",
    "                flow_bound=config.unfolding_flow.bound,\n",
    "                randPerm=config.unfolding_flow.randPerm,\n",
    "                device=device,\n",
    "                dtype=torch.float64,\n",
    "                eps=config.training_params.eps)\n",
    "\n",
    "model.load_state_dict(torch.load(model_weights, map_location=device)[\"model_state_dict\"])\n"
   ]
  },
  {
   "cell_type": "code",
   "execution_count": 3,
   "id": "20b041fa-99bc-4f12-9b8e-6c613666d7d6",
   "metadata": {},
   "outputs": [],
   "source": [
    "E_CM = 13000\n",
    "#phasespace = PhaseSpace(E_CM, [21,21], [25,6,-6,21], dev=\"cpu\")\n",
    "\n",
    "\n",
    "dataCM = data.partons_CM.data_higgs_t_tbar_ISR_cartesian\n",
    "dataLab = data.partons_lab.data_higgs_t_tbar_ISR_cartesian\n",
    "PS_target = data.partons_CM.phasespace_intermediateParticles_onShell\n",
    "boost_parton = data.partons_CM.data_boost\n",
    "\n",
    "higgsCorrect = vector.array(\n",
    "    {\n",
    "        \"E\": dataCM[:,0,0].detach().cpu().numpy(),\n",
    "        \"px\": dataCM[:,0,1].detach().cpu().numpy(),\n",
    "        \"py\": dataCM[:,0,2].detach().cpu().numpy(),\n",
    "        \"pz\": dataCM[:,0,3].detach().cpu().numpy(),\n",
    "    }\n",
    ")\n",
    "\n",
    "thadCorrect = vector.array(\n",
    "    {\n",
    "        \"E\": dataCM[:,1,0].detach().cpu().numpy(),\n",
    "        \"px\": dataCM[:,1,1].detach().cpu().numpy(),\n",
    "        \"py\": dataCM[:,1,2].detach().cpu().numpy(),\n",
    "        \"pz\": dataCM[:,1,3].detach().cpu().numpy(),\n",
    "    }\n",
    ")\n",
    "\n",
    "tlepCorrect = vector.array(\n",
    "    {\n",
    "        \"E\": dataCM[:,2,0].detach().cpu().numpy(),\n",
    "        \"px\": dataCM[:,2,1].detach().cpu().numpy(),\n",
    "        \"py\": dataCM[:,2,2].detach().cpu().numpy(),\n",
    "        \"pz\": dataCM[:,2,3].detach().cpu().numpy(),\n",
    "    }\n",
    ")\n",
    "\n",
    "glISRCorrect = vector.array(\n",
    "    {\n",
    "        \"E\": dataCM[:,3,0].detach().cpu().numpy(),\n",
    "        \"px\": dataCM[:,3,1].detach().cpu().numpy(),\n",
    "        \"py\": dataCM[:,3,2].detach().cpu().numpy(),\n",
    "        \"pz\": dataCM[:,3,3].detach().cpu().numpy(),\n",
    "    }\n",
    ")\n",
    "\n",
    "# In the lab\n",
    "higgsCorrect_lab = vector.array(\n",
    "    {\n",
    "        \"E\": dataLab[:,0,0].detach().cpu().numpy(),\n",
    "        \"px\": dataLab[:,0,1].detach().cpu().numpy(),\n",
    "        \"py\": dataLab[:,0,2].detach().cpu().numpy(),\n",
    "        \"pz\": dataLab[:,0,3].detach().cpu().numpy(),\n",
    "    }\n",
    ")\n",
    "\n",
    "thadCorrect_lab = vector.array(\n",
    "    {\n",
    "        \"E\": dataLab[:,1,0].detach().cpu().numpy(),\n",
    "        \"px\": dataLab[:,1,1].detach().cpu().numpy(),\n",
    "        \"py\": dataLab[:,1,2].detach().cpu().numpy(),\n",
    "        \"pz\": dataLab[:,1,3].detach().cpu().numpy(),\n",
    "    }\n",
    ")\n",
    "\n",
    "tlepCorrect_lab = vector.array(\n",
    "    {\n",
    "        \"E\": dataLab[:,2,0].detach().cpu().numpy(),\n",
    "        \"px\": dataLab[:,2,1].detach().cpu().numpy(),\n",
    "        \"py\": dataLab[:,2,2].detach().cpu().numpy(),\n",
    "        \"pz\": dataLab[:,2,3].detach().cpu().numpy(),\n",
    "    }\n",
    ")\n",
    "\n",
    "glISRCorrect_lab = vector.array(\n",
    "    {\n",
    "        \"E\": dataLab[:,3,0].detach().cpu().numpy(),\n",
    "        \"px\": dataLab[:,3,1].detach().cpu().numpy(),\n",
    "        \"py\": dataLab[:,3,2].detach().cpu().numpy(),\n",
    "        \"pz\": dataLab[:,3,3].detach().cpu().numpy(),\n",
    "    }\n",
    ")\n",
    "\n",
    "higgsCorrect = ak.with_name(higgsCorrect, name=\"Momentum4D\")\n",
    "thadCorrect = ak.with_name(thadCorrect, name=\"Momentum4D\")\n",
    "tlepCorrect = ak.with_name(tlepCorrect, name=\"Momentum4D\")\n",
    "glISRCorrect = ak.with_name(glISRCorrect, name=\"Momentum4D\")\n",
    "\n",
    "higgsCorrect_lab = ak.with_name(higgsCorrect_lab, name=\"Momentum4D\")\n",
    "thadCorrect_lab = ak.with_name(thadCorrect_lab, name=\"Momentum4D\")\n",
    "tlepCorrect_lab = ak.with_name(tlepCorrect_lab, name=\"Momentum4D\")\n",
    "glISRCorrect_lab = ak.with_name(glISRCorrect_lab, name=\"Momentum4D\")"
   ]
  },
  {
   "cell_type": "code",
   "execution_count": 40,
   "id": "98dc5d17-4a40-4082-b7ee-c357e0ef4eb5",
   "metadata": {},
   "outputs": [],
   "source": [
    "indices = list(range(50))\n",
    "logScaled_reco = data.reco_lab.scaledLogRecoParticles[indices].to(device)\n",
    "mask_lepton_reco = data.reco_lab.mask_lepton[indices].to(device)\n",
    "mask_jets = data.reco_lab.mask_jets[indices].to(device)\n",
    "mask_met = data.reco_lab.mask_met[indices].to(device)\n",
    "mask_boost_reco = data.reco_lab.mask_boost[indices].to(device)\n",
    "data_boost_reco = data.reco_lab.scaledLogBoost[indices].to(device)\n",
    "\n",
    "boost_parton = data.partons_CM.data_boost[indices].to(device)\n",
    "parton_cartesian = data.partons_CM.data_higgs_t_tbar_ISR_cartesian_onShell[indices].to(device)\n",
    "ps_target_scaled = data.partons_CM.phasespace_intermediateParticles_onShell_logit_scaled[indices].to(device)\n",
    "ps_target = data.partons_CM.phasespace_intermediateParticles_onShell[indices].to(device)\n",
    "ps_target_logit = data.partons_CM.phasespace_intermediateParticles_onShell[indices].to(device)"
   ]
  },
  {
   "cell_type": "code",
   "execution_count": 41,
   "id": "97c1aef1-95d0-41f7-970f-00abb79d935b",
   "metadata": {},
   "outputs": [],
   "source": [
    "model = model.to(device)"
   ]
  },
  {
   "cell_type": "code",
   "execution_count": 42,
   "id": "98e6deaa-97f5-4a43-9194-101306dd49c1",
   "metadata": {},
   "outputs": [],
   "source": [
    "mask_recoParticles = torch.cat((mask_jets, mask_lepton_reco, mask_met), dim=1)\n",
    "if True : # Always remove true proveance TODO REMOVE THE HACK \n",
    "    logScaled_reco = logScaled_reco[:,:,:-1]\n",
    "\n",
    "\n",
    "# The provenance is remove in the model\n",
    "(data_regressed, data_regressed_cm, ps_regr,\n",
    "     logit_ps_regr, flow_cond_vector,\n",
    "     flow_logprob, mask_problematic)   = model(logScaled_reco,\n",
    "                                                  data_boost_reco,\n",
    "                                                  mask_recoParticles,\n",
    "                                                  mask_boost_reco,\n",
    "                                                  ps_target_scaled,\n",
    "                                                  disableGradConditioning=False,\n",
    "                                                  flow_eval=\"normalizing\")\n",
    "#ps_samples = model.flow(flow_cond_vector).sample((1024,))"
   ]
  },
  {
   "cell_type": "code",
   "execution_count": 43,
   "id": "a035ed3d-e188-432a-904f-251291790756",
   "metadata": {},
   "outputs": [
    {
     "data": {
      "text/plain": [
       "tensor([ 9.6904, 23.0132, 13.2637,  6.0112,  4.5460, 21.3109,  7.1442, 17.5068,\n",
       "        11.7217, 10.3508, -1.6495,  8.7515, 15.8730,  8.4007,  8.5149, 17.9340,\n",
       "        18.4631, 12.5039, 16.8586, 20.2902,  8.5944, 11.3144,  6.6615,  7.3501,\n",
       "        23.4463,  6.7524, 10.9470,  1.7930, 14.1132, 14.7665,  9.2050, 13.4462,\n",
       "        10.2072,  6.6809, 12.2203, 13.0260, 14.9817, 19.3299, 12.4001,  2.8598,\n",
       "        11.2883, 13.9727, 18.0793,  5.2816,  6.2081, 16.0641,  6.3373, 17.2890,\n",
       "         7.4706,  6.0465], device='cuda:0', grad_fn=<AddBackward0>)"
      ]
     },
     "execution_count": 43,
     "metadata": {},
     "output_type": "execute_result"
    }
   ],
   "source": [
    "flow_logprob"
   ]
  },
  {
   "cell_type": "code",
   "execution_count": 44,
   "id": "39e2ad2b-59dd-4ac5-aa60-6b644b5674f8",
   "metadata": {},
   "outputs": [],
   "source": [
    "loss_prob = - flow_logprob.nanmean()"
   ]
  },
  {
   "cell_type": "code",
   "execution_count": 34,
   "id": "3ba6ea80-413c-4978-942b-2b1f04a53b9a",
   "metadata": {},
   "outputs": [],
   "source": [
    "loss_prob.backward()"
   ]
  },
  {
   "cell_type": "code",
   "execution_count": 11,
   "id": "bfc42d3e-4a5e-472d-b0f9-bf0a979e0c6d",
   "metadata": {},
   "outputs": [],
   "source": [
    "pp =  dict(model.named_parameters())    "
   ]
  },
  {
   "cell_type": "code",
   "execution_count": 12,
   "id": "4edd3c0e-07d0-4235-a64f-492f92cb1a59",
   "metadata": {},
   "outputs": [
    {
     "data": {
      "text/plain": [
       "tensor([[-2.3255e-03,  1.0268e-02,  2.6622e-03,  ..., -2.5346e-02,\n",
       "         -2.4345e-03,  4.8535e-02],\n",
       "        [-1.0545e-01,  4.5569e-02,  4.4881e-02,  ...,  7.1757e-02,\n",
       "          8.0468e-02, -2.1216e-01],\n",
       "        [ 1.9053e-03, -2.4694e-02, -3.3303e-02,  ..., -3.0990e-04,\n",
       "         -4.0826e-02,  1.7351e-01],\n",
       "        ...,\n",
       "        [ 8.1613e-02,  3.2727e-02, -3.3836e-02,  ..., -1.0616e-01,\n",
       "         -6.2040e-02,  1.1726e-01],\n",
       "        [ 1.7856e-02,  5.8827e-03,  1.2050e-02,  ...,  5.5358e-03,\n",
       "         -6.3259e-03, -5.6733e-02],\n",
       "        [ 8.1954e-03,  2.9568e-03, -2.7341e-05,  ...,  1.2572e-02,\n",
       "          8.8040e-03, -7.4536e-02]], device='cuda:0')"
      ]
     },
     "execution_count": 12,
     "metadata": {},
     "output_type": "execute_result"
    }
   ],
   "source": [
    "pp[\"cond_transformer.transformer_encoder.layers.0.linear1.weight\"].grad"
   ]
  },
  {
   "cell_type": "code",
   "execution_count": 52,
   "id": "55bbe115-2120-4bb4-862f-da9e0b5f7e6a",
   "metadata": {},
   "outputs": [
    {
     "data": {
      "text/plain": [
       "tensor(-11.4820, device='cuda:0', grad_fn=<NegBackward0>)"
      ]
     },
     "execution_count": 52,
     "metadata": {},
     "output_type": "execute_result"
    }
   ],
   "source": [
    "loss_prob"
   ]
  },
  {
   "cell_type": "code",
   "execution_count": 14,
   "id": "935c0cf5-7adb-42a1-804c-31d6f9e549f5",
   "metadata": {},
   "outputs": [],
   "source": [
    "loss.backward()"
   ]
  },
  {
   "cell_type": "code",
   "execution_count": 23,
   "id": "6603a979-5db6-4b0d-b215-5f10d7976cf4",
   "metadata": {},
   "outputs": [],
   "source": [
    "# At the same time we also sample"
   ]
  },
  {
   "cell_type": "code",
   "execution_count": 45,
   "id": "1a781ffb-0d2d-4e70-9ecf-7b971569211a",
   "metadata": {},
   "outputs": [],
   "source": [
    "ps_samples = model.flow(flow_cond_vector).rsample((1,))\n",
    "ps_samples = ps_samples.squeeze()\n",
    "ps_new = torch.sigmoid(ps_samples*scale_ps + mean_ps)"
   ]
  },
  {
   "cell_type": "code",
   "execution_count": 46,
   "id": "96f1eeb7-91b6-4e59-975f-ace6f739957c",
   "metadata": {},
   "outputs": [],
   "source": [
    "import memflow.phasespace as phas\n",
    "phasespace = phas.phasespace.PhaseSpace(E_CM, [21,21], [25,6,-6,21], dev=\"cuda\")"
   ]
  },
  {
   "cell_type": "code",
   "execution_count": 47,
   "id": "92b996d6-adf3-4ebb-af6c-6c8a75c33c8f",
   "metadata": {},
   "outputs": [],
   "source": [
    "momenta, weight, x1, x2 = phasespace.get_momenta_from_ps(ps_new, requires_grad=True)"
   ]
  },
  {
   "cell_type": "code",
   "execution_count": 11,
   "id": "63cfd7b9-d8a6-4a64-945f-890f11fcdf7e",
   "metadata": {},
   "outputs": [
    {
     "data": {
      "text/plain": [
       "tensor([2.6615e+00, 6.9866e+04, 1.2256e+03, 1.3262e+01, 9.8108e+00, 3.4177e+04,\n",
       "        3.0967e+03, 6.4142e+03, 1.3959e+02, 1.0976e+04, 1.0039e+01, 6.2610e+02,\n",
       "        1.4068e+03, 8.9640e+02, 7.6615e+03, 1.3261e+04, 7.8206e+05, 5.0307e+03,\n",
       "        4.7871e+02, 3.1221e+02, 1.6646e+03, 1.9530e+04, 2.4507e+05, 1.3224e+04,\n",
       "        1.8154e+04, 3.1818e+03, 3.3033e+04, 1.3681e+05, 3.9422e+06, 2.6149e+04,\n",
       "        1.3089e+00, 1.2047e+04, 2.6675e+02, 2.5515e+03, 6.7131e+01, 5.1482e+01,\n",
       "        1.4578e+03, 4.1518e+03, 2.5349e+03, 1.8537e+02, 1.9113e+03, 7.6210e+01,\n",
       "        1.5742e+05, 3.5681e+03, 6.5982e+02, 3.1869e+02, 1.1221e+02, 1.3386e+06,\n",
       "        7.7306e+02, 5.3353e+03], device='cuda:0', grad_fn=<MulBackward0>)"
      ]
     },
     "execution_count": 11,
     "metadata": {},
     "output_type": "execute_result"
    }
   ],
   "source": [
    "weight"
   ]
  },
  {
   "cell_type": "code",
   "execution_count": 48,
   "id": "97f760f0-eab1-4a8d-b792-ee775f9cd280",
   "metadata": {},
   "outputs": [],
   "source": [
    "(loss_prob + momenta[:,0,0].mean()).backward()"
   ]
  },
  {
   "cell_type": "code",
   "execution_count": 49,
   "id": "41b61693-116e-44e4-af0b-d6abda0f1281",
   "metadata": {},
   "outputs": [
    {
     "data": {
      "text/plain": [
       "tensor([[ 0.1732, -0.0169,  0.2564,  ..., -0.2148,  0.1927, -1.3978],\n",
       "        [ 5.3129, -2.0609,  2.1267,  ..., -9.1207, -4.5678,  6.6388],\n",
       "        [-1.1046, -1.2949, -4.5089,  ...,  4.7607, -4.2598,  8.8477],\n",
       "        ...,\n",
       "        [ 0.0890,  0.2842,  1.6657,  ..., -1.2250,  1.2432, -4.0052],\n",
       "        [ 0.0893, -0.5387, -0.5566,  ..., -0.1202, -1.0441,  0.8124],\n",
       "        [ 0.0268,  0.0223, -0.0120,  ...,  0.0264,  0.0163, -0.1882]],\n",
       "       device='cuda:0')"
      ]
     },
     "execution_count": 49,
     "metadata": {},
     "output_type": "execute_result"
    }
   ],
   "source": [
    "pp[\"cond_transformer.transformer_encoder.layers.3.linear1.weight\"].grad"
   ]
  },
  {
   "cell_type": "code",
   "execution_count": 17,
   "id": "fd2d37b9-bfec-41e9-845e-b39e837f2c5c",
   "metadata": {},
   "outputs": [],
   "source": [
    "loss = (momenta[:, 2, 0]).mean()"
   ]
  },
  {
   "cell_type": "code",
   "execution_count": 18,
   "id": "3a6e6931-995c-46d7-82e2-7bb4da2392c8",
   "metadata": {},
   "outputs": [
    {
     "data": {
      "text/plain": [
       "tensor(236.8525, device='cuda:0')"
      ]
     },
     "execution_count": 18,
     "metadata": {},
     "output_type": "execute_result"
    }
   ],
   "source": [
    "loss"
   ]
  },
  {
   "cell_type": "code",
   "execution_count": 25,
   "id": "e8cbe337-cc4a-4c33-89c2-5e97eb91b875",
   "metadata": {},
   "outputs": [
    {
     "data": {
      "text/plain": [
       "(array([29., 43., 44., 28., 44., 32., 29., 22., 20., 19., 25., 22., 17.,\n",
       "        16., 14., 11., 11.,  8.,  7.,  9.,  4.,  5.,  5.,  5.,  3.,  1.,\n",
       "         4.,  3.,  1.,  1.,  1.,  6.,  0.,  3.,  4.,  3.,  1.,  0.,  1.,\n",
       "         2.,  0.,  0.,  1.,  0.,  0.,  0.,  0.,  0.,  1.,  1.,  0.,  0.,\n",
       "         0.,  0.,  0.,  1.,  0.,  0.,  0.,  0.,  0.,  2.,  0.,  1.,  0.,\n",
       "         0.,  0.,  0.,  0.,  0.,  0.,  0.,  1.,  0.,  0.,  0.,  0.,  0.,\n",
       "         0.,  0.,  0.,  0.,  0.,  0.,  0.,  0.,  0.,  0.,  0.,  0.,  0.,\n",
       "         0.,  0.,  0.,  0.,  0.,  0.,  0.,  0.,  1.]),\n",
       " array([ 127.16903273,  137.66211669,  148.15520065,  158.64828461,\n",
       "         169.14136857,  179.63445253,  190.12753649,  200.62062045,\n",
       "         211.1137044 ,  221.60678836,  232.09987232,  242.59295628,\n",
       "         253.08604024,  263.5791242 ,  274.07220816,  284.56529212,\n",
       "         295.05837608,  305.55146004,  316.044544  ,  326.53762795,\n",
       "         337.03071191,  347.52379587,  358.01687983,  368.50996379,\n",
       "         379.00304775,  389.49613171,  399.98921567,  410.48229963,\n",
       "         420.97538359,  431.46846755,  441.9615515 ,  452.45463546,\n",
       "         462.94771942,  473.44080338,  483.93388734,  494.4269713 ,\n",
       "         504.92005526,  515.41313922,  525.90622318,  536.39930714,\n",
       "         546.8923911 ,  557.38547505,  567.87855901,  578.37164297,\n",
       "         588.86472693,  599.35781089,  609.85089485,  620.34397881,\n",
       "         630.83706277,  641.33014673,  651.82323069,  662.31631465,\n",
       "         672.8093986 ,  683.30248256,  693.79556652,  704.28865048,\n",
       "         714.78173444,  725.2748184 ,  735.76790236,  746.26098632,\n",
       "         756.75407028,  767.24715424,  777.74023819,  788.23332215,\n",
       "         798.72640611,  809.21949007,  819.71257403,  830.20565799,\n",
       "         840.69874195,  851.19182591,  861.68490987,  872.17799383,\n",
       "         882.67107779,  893.16416174,  903.6572457 ,  914.15032966,\n",
       "         924.64341362,  935.13649758,  945.62958154,  956.1226655 ,\n",
       "         966.61574946,  977.10883342,  987.60191738,  998.09500134,\n",
       "        1008.58808529, 1019.08116925, 1029.57425321, 1040.06733717,\n",
       "        1050.56042113, 1061.05350509, 1071.54658905, 1082.03967301,\n",
       "        1092.53275697, 1103.02584093, 1113.51892489, 1124.01200884,\n",
       "        1134.5050928 , 1144.99817676, 1155.49126072, 1165.98434468,\n",
       "        1176.47742864]),\n",
       " <BarContainer object of 100 artists>)"
      ]
     },
     "execution_count": 25,
     "metadata": {},
     "output_type": "execute_result"
    },
    {
     "data": {
      "image/png": "[encoded data removed]",
      "text/plain": [
       "<Figure size 640x480 with 1 Axes>"
      ]
     },
     "metadata": {},
     "output_type": "display_data"
    }
   ],
   "source": [
    "plt.hist(momenta[:,2,0 ].detach().cpu().numpy(), bins=100)"
   ]
  },
  {
   "cell_type": "markdown",
   "id": "2cb9b7b3-132f-4767-9efc-3e23bfed7bd3",
   "metadata": {},
   "source": [
    "# Minimal rambo PS --> particle, differentiable"
   ]
  },
  {
   "cell_type": "code",
   "execution_count": 5,
   "id": "aa05f84a-648c-4eaa-95aa-4febc87beaad",
   "metadata": {},
   "outputs": [],
   "source": [
    "import memflow.phasespace as phas\n",
    "phasespace = phas.phasespace.PhaseSpace(E_CM, [21,21], [25,6,-6,21], dev=\"cpu\")"
   ]
  },
  {
   "cell_type": "code",
   "execution_count": 7,
   "id": "70d76480-a89a-43a3-918c-e8b8156ab808",
   "metadata": {},
   "outputs": [
    {
     "name": "stdout",
     "output_type": "stream",
     "text": [
      "tensor([[0.6153, 0.0801],\n",
      "        [0.8385, 0.0021],\n",
      "        [0.6520, 0.0435],\n",
      "        [0.5161, 0.7610],\n",
      "        [0.8197, 0.3592],\n",
      "        [0.3867, 0.2512],\n",
      "        [0.8061, 0.3981],\n",
      "        [0.0847, 0.7737],\n",
      "        [0.2110, 0.2099],\n",
      "        [0.6954, 0.1067],\n",
      "        [0.6394, 0.8096],\n",
      "        [0.8678, 0.5706],\n",
      "        [0.4870, 0.7250],\n",
      "        [0.9816, 0.2179],\n",
      "        [0.5022, 0.0370],\n",
      "        [0.5631, 0.0179],\n",
      "        [0.9398, 0.0261],\n",
      "        [0.0125, 0.0491],\n",
      "        [0.7507, 0.1510],\n",
      "        [0.2981, 0.5502],\n",
      "        [0.3766, 0.0813],\n",
      "        [0.9892, 0.2396],\n",
      "        [0.8093, 0.7054],\n",
      "        [0.2329, 0.2026],\n",
      "        [0.3723, 0.2186],\n",
      "        [0.9264, 0.2702],\n",
      "        [0.9631, 0.5775],\n",
      "        [0.9413, 0.3438],\n",
      "        [0.3948, 0.3431],\n",
      "        [0.8843, 0.0465],\n",
      "        [0.6982, 0.2962],\n",
      "        [0.8208, 0.1740],\n",
      "        [0.2578, 0.0311],\n",
      "        [0.8212, 0.6341],\n",
      "        [0.5227, 0.2666],\n",
      "        [0.3582, 0.4434],\n",
      "        [0.1988, 0.6918],\n",
      "        [0.4456, 0.2995],\n",
      "        [0.6925, 0.2303],\n",
      "        [0.9060, 0.7991],\n",
      "        [0.5366, 0.2591],\n",
      "        [0.6912, 0.0525],\n",
      "        [0.3442, 0.0203],\n",
      "        [0.8340, 0.7563],\n",
      "        [0.8649, 0.1257],\n",
      "        [0.6192, 0.0861],\n",
      "        [0.7750, 0.1592],\n",
      "        [0.6578, 0.1937],\n",
      "        [0.2824, 0.4982],\n",
      "        [0.6264, 0.8826]])\n",
      "tensor([[1.0000e+00, 6.1533e-01, 4.9317e-02],\n",
      "        [1.0000e+00, 8.3848e-01, 1.7446e-03],\n",
      "        [1.0000e+00, 6.5202e-01, 2.8357e-02],\n",
      "        [1.0000e+00, 5.1614e-01, 3.9280e-01],\n",
      "        [1.0000e+00, 8.1973e-01, 2.9443e-01],\n",
      "        [1.0000e+00, 3.8665e-01, 9.7130e-02],\n",
      "        [1.0000e+00, 8.0614e-01, 3.2090e-01],\n",
      "        [1.0000e+00, 8.4666e-02, 6.5502e-02],\n",
      "        [1.0000e+00, 2.1097e-01, 4.4292e-02],\n",
      "        [1.0000e+00, 6.9544e-01, 7.4169e-02],\n",
      "        [1.0000e+00, 6.3945e-01, 5.1771e-01],\n",
      "        [1.0000e+00, 8.6777e-01, 4.9518e-01],\n",
      "        [1.0000e+00, 4.8704e-01, 3.5310e-01],\n",
      "        [1.0000e+00, 9.8164e-01, 2.1387e-01],\n",
      "        [1.0000e+00, 5.0223e-01, 1.8562e-02],\n",
      "        [1.0000e+00, 5.6308e-01, 1.0069e-02],\n",
      "        [1.0000e+00, 9.3983e-01, 2.4512e-02],\n",
      "        [1.0000e+00, 1.2479e-02, 6.1326e-04],\n",
      "        [1.0000e+00, 7.5073e-01, 1.1337e-01],\n",
      "        [1.0000e+00, 2.9814e-01, 1.6403e-01],\n",
      "        [1.0000e+00, 3.7660e-01, 3.0622e-02],\n",
      "        [1.0000e+00, 9.8922e-01, 2.3704e-01],\n",
      "        [1.0000e+00, 8.0929e-01, 5.7087e-01],\n",
      "        [1.0000e+00, 2.3290e-01, 4.7179e-02],\n",
      "        [1.0000e+00, 3.7228e-01, 8.1394e-02],\n",
      "        [1.0000e+00, 9.2644e-01, 2.5029e-01],\n",
      "        [1.0000e+00, 9.6307e-01, 5.5621e-01],\n",
      "        [1.0000e+00, 9.4129e-01, 3.2360e-01],\n",
      "        [1.0000e+00, 3.9484e-01, 1.3546e-01],\n",
      "        [1.0000e+00, 8.8430e-01, 4.1086e-02],\n",
      "        [1.0000e+00, 6.9821e-01, 2.0681e-01],\n",
      "        [1.0000e+00, 8.2083e-01, 1.4279e-01],\n",
      "        [1.0000e+00, 2.5777e-01, 8.0129e-03],\n",
      "        [1.0000e+00, 8.2116e-01, 5.2073e-01],\n",
      "        [1.0000e+00, 5.2274e-01, 1.3938e-01],\n",
      "        [1.0000e+00, 3.5822e-01, 1.5882e-01],\n",
      "        [1.0000e+00, 1.9878e-01, 1.3751e-01],\n",
      "        [1.0000e+00, 4.4555e-01, 1.3346e-01],\n",
      "        [1.0000e+00, 6.9247e-01, 1.5947e-01],\n",
      "        [1.0000e+00, 9.0599e-01, 7.2400e-01],\n",
      "        [1.0000e+00, 5.3658e-01, 1.3903e-01],\n",
      "        [1.0000e+00, 6.9124e-01, 3.6289e-02],\n",
      "        [1.0000e+00, 3.4418e-01, 6.9762e-03],\n",
      "        [1.0000e+00, 8.3403e-01, 6.3076e-01],\n",
      "        [1.0000e+00, 8.6491e-01, 1.0869e-01],\n",
      "        [1.0000e+00, 6.1923e-01, 5.3297e-02],\n",
      "        [1.0000e+00, 7.7503e-01, 1.2335e-01],\n",
      "        [1.0000e+00, 6.5783e-01, 1.2744e-01],\n",
      "        [1.0000e+00, 2.8237e-01, 1.4067e-01],\n",
      "        [1.0000e+00, 6.2642e-01, 5.5287e-01]])\n",
      "tensor([[1.0820e+02, 6.6579e+01, 5.3360e+00],\n",
      "        [6.0919e+02, 5.1079e+02, 1.0628e+00],\n",
      "        [1.3311e+02, 8.6791e+01, 3.7747e+00],\n",
      "        [2.3874e+02, 1.2322e+02, 9.3776e+01],\n",
      "        [7.6446e+01, 6.2665e+01, 2.2508e+01],\n",
      "        [5.1024e+02, 1.9729e+02, 4.9560e+01],\n",
      "        [7.4531e+02, 6.0083e+02, 2.3917e+02],\n",
      "        [6.8799e+02, 5.8249e+01, 4.5064e+01],\n",
      "        [3.0540e+02, 6.4430e+01, 1.3527e+01],\n",
      "        [8.8407e+02, 6.1482e+02, 6.5571e+01],\n",
      "        [3.4474e+02, 2.2044e+02, 1.7847e+02],\n",
      "        [4.6212e+02, 4.0102e+02, 2.2884e+02],\n",
      "        [4.1682e+02, 2.0301e+02, 1.4718e+02],\n",
      "        [7.7268e+02, 7.5850e+02, 1.6525e+02],\n",
      "        [3.6504e+02, 1.8333e+02, 6.7759e+00],\n",
      "        [6.5772e+02, 3.7035e+02, 6.6228e+00],\n",
      "        [1.0500e+03, 9.8678e+02, 2.5736e+01],\n",
      "        [3.2525e+02, 4.0587e+00, 1.9947e-01],\n",
      "        [2.3171e+02, 1.7395e+02, 2.6268e+01],\n",
      "        [3.1139e+02, 9.2838e+01, 5.1076e+01],\n",
      "        [4.2745e+02, 1.6098e+02, 1.3090e+01],\n",
      "        [1.0762e+03, 1.0646e+03, 2.5511e+02],\n",
      "        [4.9695e+02, 4.0218e+02, 2.8370e+02],\n",
      "        [1.0718e+03, 2.4962e+02, 5.0566e+01],\n",
      "        [8.4855e+02, 3.1590e+02, 6.9067e+01],\n",
      "        [4.9769e+02, 4.6108e+02, 1.2457e+02],\n",
      "        [9.5001e+02, 9.1493e+02, 5.2840e+02],\n",
      "        [7.1100e+02, 6.6926e+02, 2.3008e+02],\n",
      "        [1.5124e+03, 5.9714e+02, 2.0487e+02],\n",
      "        [2.5284e+03, 2.2359e+03, 1.0388e+02],\n",
      "        [7.5938e+01, 5.3020e+01, 1.5705e+01],\n",
      "        [5.4419e+02, 4.4669e+02, 7.7707e+01],\n",
      "        [2.2726e+02, 5.8581e+01, 1.8210e+00],\n",
      "        [2.4419e+02, 2.0052e+02, 1.2716e+02],\n",
      "        [2.3402e+02, 1.2233e+02, 3.2617e+01],\n",
      "        [1.2264e+02, 4.3933e+01, 1.9478e+01],\n",
      "        [6.2243e+02, 1.2372e+02, 8.5592e+01],\n",
      "        [9.5249e+02, 4.2438e+02, 1.2712e+02],\n",
      "        [3.7335e+02, 2.5854e+02, 5.9540e+01],\n",
      "        [4.4209e+02, 4.0053e+02, 3.2007e+02],\n",
      "        [3.9346e+02, 2.1112e+02, 5.4702e+01],\n",
      "        [2.6934e+02, 1.8618e+02, 9.7742e+00],\n",
      "        [9.3030e+02, 3.2019e+02, 6.4900e+00],\n",
      "        [3.7945e+02, 3.1647e+02, 2.3934e+02],\n",
      "        [2.2452e+02, 1.9419e+02, 2.4404e+01],\n",
      "        [3.9751e+02, 2.4615e+02, 2.1186e+01],\n",
      "        [3.1147e+02, 2.4140e+02, 3.8420e+01],\n",
      "        [1.4974e+03, 9.8504e+02, 1.9083e+02],\n",
      "        [1.7843e+02, 5.0383e+01, 2.5099e+01],\n",
      "        [6.6257e+02, 4.1504e+02, 3.6631e+02]])\n",
      "tensor([[1.0820e+02, 6.6579e+01, 5.3360e+00],\n",
      "        [6.0919e+02, 5.1079e+02, 1.0628e+00],\n",
      "        [1.3311e+02, 8.6791e+01, 3.7747e+00],\n",
      "        [2.3874e+02, 1.2322e+02, 9.3776e+01],\n",
      "        [7.6446e+01, 6.2665e+01, 2.2508e+01],\n",
      "        [5.1024e+02, 1.9729e+02, 4.9560e+01],\n",
      "        [7.4531e+02, 6.0083e+02, 2.3917e+02],\n",
      "        [6.8799e+02, 5.8249e+01, 4.5064e+01],\n",
      "        [3.0540e+02, 6.4430e+01, 1.3527e+01],\n",
      "        [8.8407e+02, 6.1482e+02, 6.5571e+01],\n",
      "        [3.4474e+02, 2.2044e+02, 1.7847e+02],\n",
      "        [4.6212e+02, 4.0102e+02, 2.2884e+02],\n",
      "        [4.1682e+02, 2.0301e+02, 1.4718e+02],\n",
      "        [7.7268e+02, 7.5850e+02, 1.6525e+02],\n",
      "        [3.6504e+02, 1.8333e+02, 6.7759e+00],\n",
      "        [6.5772e+02, 3.7035e+02, 6.6228e+00],\n",
      "        [1.0500e+03, 9.8678e+02, 2.5736e+01],\n",
      "        [3.2525e+02, 4.0587e+00, 1.9947e-01],\n",
      "        [2.3171e+02, 1.7395e+02, 2.6268e+01],\n",
      "        [3.1139e+02, 9.2838e+01, 5.1076e+01],\n",
      "        [4.2745e+02, 1.6098e+02, 1.3090e+01],\n",
      "        [1.0762e+03, 1.0646e+03, 2.5511e+02],\n",
      "        [4.9695e+02, 4.0218e+02, 2.8370e+02],\n",
      "        [1.0718e+03, 2.4962e+02, 5.0566e+01],\n",
      "        [8.4855e+02, 3.1590e+02, 6.9067e+01],\n",
      "        [4.9769e+02, 4.6108e+02, 1.2457e+02],\n",
      "        [9.5001e+02, 9.1493e+02, 5.2840e+02],\n",
      "        [7.1100e+02, 6.6926e+02, 2.3008e+02],\n",
      "        [1.5124e+03, 5.9714e+02, 2.0487e+02],\n",
      "        [2.5284e+03, 2.2359e+03, 1.0388e+02],\n",
      "        [7.5938e+01, 5.3020e+01, 1.5705e+01],\n",
      "        [5.4419e+02, 4.4669e+02, 7.7707e+01],\n",
      "        [2.2726e+02, 5.8581e+01, 1.8210e+00],\n",
      "        [2.4419e+02, 2.0052e+02, 1.2716e+02],\n",
      "        [2.3402e+02, 1.2233e+02, 3.2617e+01],\n",
      "        [1.2264e+02, 4.3933e+01, 1.9478e+01],\n",
      "        [6.2243e+02, 1.2372e+02, 8.5592e+01],\n",
      "        [9.5249e+02, 4.2438e+02, 1.2712e+02],\n",
      "        [3.7335e+02, 2.5854e+02, 5.9540e+01],\n",
      "        [4.4209e+02, 4.0053e+02, 3.2007e+02],\n",
      "        [3.9346e+02, 2.1112e+02, 5.4702e+01],\n",
      "        [2.6934e+02, 1.8618e+02, 9.7742e+00],\n",
      "        [9.3030e+02, 3.2019e+02, 6.4900e+00],\n",
      "        [3.7945e+02, 3.1647e+02, 2.3934e+02],\n",
      "        [2.2452e+02, 1.9419e+02, 2.4404e+01],\n",
      "        [3.9751e+02, 2.4615e+02, 2.1186e+01],\n",
      "        [3.1147e+02, 2.4140e+02, 3.8420e+01],\n",
      "        [1.4974e+03, 9.8504e+02, 1.9083e+02],\n",
      "        [1.7843e+02, 5.0383e+01, 2.5099e+01],\n",
      "        [6.6257e+02, 4.1504e+02, 3.6631e+02]])\n",
      "tensor([[5.7845e+02, 4.1158e+02, 1.7784e+02, 1.0000e-05],\n",
      "        [1.0794e+03, 8.5579e+02, 1.7356e+02, 1.0000e-05],\n",
      "        [6.0336e+02, 4.3179e+02, 1.7627e+02, 1.0000e-05],\n",
      "        [7.0899e+02, 4.6822e+02, 2.6628e+02, 1.0000e-05],\n",
      "        [5.4670e+02, 4.0766e+02, 1.9501e+02, 1.0000e-05],\n",
      "        [9.8049e+02, 5.4229e+02, 2.2206e+02, 1.0000e-05],\n",
      "        [1.2156e+03, 9.4583e+02, 4.1167e+02, 1.0000e-05],\n",
      "        [1.1582e+03, 4.0325e+02, 2.1756e+02, 1.0000e-05],\n",
      "        [7.7565e+02, 4.0943e+02, 1.8603e+02, 1.0000e-05],\n",
      "        [1.3543e+03, 9.5982e+02, 2.3807e+02, 1.0000e-05],\n",
      "        [8.1499e+02, 5.6544e+02, 3.5097e+02, 1.0000e-05],\n",
      "        [9.3237e+02, 7.4602e+02, 4.0134e+02, 1.0000e-05],\n",
      "        [8.8707e+02, 5.4801e+02, 3.1968e+02, 1.0000e-05],\n",
      "        [1.2429e+03, 1.1035e+03, 3.3775e+02, 1.0000e-05],\n",
      "        [8.3529e+02, 5.2833e+02, 1.7928e+02, 1.0000e-05],\n",
      "        [1.1280e+03, 7.1535e+02, 1.7912e+02, 1.0000e-05],\n",
      "        [1.5202e+03, 1.3318e+03, 1.9824e+02, 1.0000e-05],\n",
      "        [7.9550e+02, 3.4906e+02, 1.7270e+02, 1.0000e-05],\n",
      "        [7.0196e+02, 5.1895e+02, 1.9877e+02, 1.0000e-05],\n",
      "        [7.8164e+02, 4.3784e+02, 2.2358e+02, 1.0000e-05],\n",
      "        [8.9770e+02, 5.0598e+02, 1.8559e+02, 1.0000e-05],\n",
      "        [1.5465e+03, 1.4096e+03, 4.2761e+02, 1.0000e-05],\n",
      "        [9.6720e+02, 7.4718e+02, 4.5620e+02, 1.0000e-05],\n",
      "        [1.5420e+03, 5.9462e+02, 2.2307e+02, 1.0000e-05],\n",
      "        [1.3188e+03, 6.6090e+02, 2.4157e+02, 1.0000e-05],\n",
      "        [9.6794e+02, 8.0608e+02, 2.9707e+02, 1.0000e-05],\n",
      "        [1.4203e+03, 1.2599e+03, 7.0090e+02, 1.0000e-05],\n",
      "        [1.1813e+03, 1.0143e+03, 4.0258e+02, 1.0000e-05],\n",
      "        [1.9826e+03, 9.4214e+02, 3.7737e+02, 1.0000e-05],\n",
      "        [2.9987e+03, 2.5809e+03, 2.7638e+02, 1.0000e-05],\n",
      "        [5.4619e+02, 3.9802e+02, 1.8820e+02, 1.0000e-05],\n",
      "        [1.0144e+03, 7.9169e+02, 2.5021e+02, 1.0000e-05],\n",
      "        [6.9751e+02, 4.0358e+02, 1.7432e+02, 1.0000e-05],\n",
      "        [7.1444e+02, 5.4552e+02, 2.9966e+02, 1.0000e-05],\n",
      "        [7.0427e+02, 4.6733e+02, 2.0512e+02, 1.0000e-05],\n",
      "        [5.9289e+02, 3.8893e+02, 1.9198e+02, 1.0000e-05],\n",
      "        [1.0927e+03, 4.6872e+02, 2.5809e+02, 1.0000e-05],\n",
      "        [1.4227e+03, 7.6938e+02, 2.9962e+02, 1.0000e-05],\n",
      "        [8.4360e+02, 6.0354e+02, 2.3204e+02, 1.0000e-05],\n",
      "        [9.1234e+02, 7.4553e+02, 4.9257e+02, 1.0000e-05],\n",
      "        [8.6371e+02, 5.5612e+02, 2.2720e+02, 1.0000e-05],\n",
      "        [7.3959e+02, 5.3118e+02, 1.8227e+02, 1.0000e-05],\n",
      "        [1.4006e+03, 6.6519e+02, 1.7899e+02, 1.0000e-05],\n",
      "        [8.4970e+02, 6.6147e+02, 4.1184e+02, 1.0000e-05],\n",
      "        [6.9477e+02, 5.3919e+02, 1.9690e+02, 1.0000e-05],\n",
      "        [8.6776e+02, 5.9115e+02, 1.9369e+02, 1.0000e-05],\n",
      "        [7.8172e+02, 5.8640e+02, 2.1092e+02, 1.0000e-05],\n",
      "        [1.9677e+03, 1.3300e+03, 3.6333e+02, 1.0000e-05],\n",
      "        [6.4868e+02, 3.9538e+02, 1.9760e+02, 1.0000e-05],\n",
      "        [1.1328e+03, 7.6004e+02, 5.3881e+02, 1.0000e-05]])\n"
     ]
    },
    {
     "data": {
      "text/plain": [
       "(tensor([[[ 2.8922e+02,  0.0000e+00,  0.0000e+00,  2.8922e+02],\n",
       "          [ 2.8922e+02,  0.0000e+00,  0.0000e+00, -2.8922e+02],\n",
       "          [ 1.5636e+02, -4.5710e+01, -7.1108e+01, -4.0194e+01],\n",
       "          [ 2.0516e+02,  5.2303e+01, -4.3440e+01,  8.7815e+01],\n",
       "          [ 2.0941e+02, -8.2587e+00,  1.1105e+02, -4.1175e+01],\n",
       "          [ 7.5207e+00,  1.6656e+00,  3.4988e+00, -6.4455e+00]],\n",
       " \n",
       "         [[ 5.3972e+02,  0.0000e+00,  0.0000e+00,  5.3972e+02],\n",
       "          [ 5.3972e+02,  0.0000e+00,  0.0000e+00, -5.3972e+02],\n",
       "          [ 2.0775e+02,  1.0554e+02,  1.2587e+02,  2.2105e+01],\n",
       "          [ 4.8054e+02,  3.3520e+01, -4.2235e+02, -1.4717e+02],\n",
       "          [ 3.9058e+02, -1.3953e+02,  2.9613e+02,  1.2503e+02],\n",
       "          [ 5.8171e-01,  4.6433e-01,  3.4812e-01,  3.9947e-02]],\n",
       " \n",
       "         [[ 3.0168e+02,  0.0000e+00,  0.0000e+00,  3.0168e+02],\n",
       "          [ 3.0168e+02,  0.0000e+00,  0.0000e+00, -3.0168e+02],\n",
       "          [ 1.6018e+02,  3.4649e+01,  8.3249e+01,  4.2872e+01],\n",
       "          [ 2.3421e+02,  5.9491e+01, -1.0910e+02, -9.8261e+01],\n",
       "          [ 2.0569e+02, -9.4631e+01,  2.8058e+01,  5.3003e+01],\n",
       "          [ 3.2884e+00,  4.9063e-01, -2.2082e+00,  2.3868e+00]],\n",
       " \n",
       "         ...,\n",
       " \n",
       "         [[ 9.8384e+02,  0.0000e+00,  0.0000e+00,  9.8384e+02],\n",
       "          [ 9.8384e+02,  0.0000e+00,  0.0000e+00, -9.8384e+02],\n",
       "          [ 5.3830e+02,  6.9930e+01, -5.1623e+02,  5.1980e+01],\n",
       "          [ 8.1689e+02,  2.2186e+02,  6.3410e+02, -4.3157e+02],\n",
       "          [ 5.5219e+02, -2.8805e+02, -8.5103e+01,  4.3005e+02],\n",
       "          [ 6.0287e+01, -3.7459e+00, -3.2770e+01, -5.0464e+01]],\n",
       " \n",
       "         [[ 3.2434e+02,  0.0000e+00,  0.0000e+00,  3.2434e+02],\n",
       "          [ 3.2434e+02,  0.0000e+00,  0.0000e+00, -3.2434e+02],\n",
       "          [ 2.1594e+02, -5.2800e+01,  2.6438e+00, -1.6777e+02],\n",
       "          [ 2.0157e+02,  1.4071e+01, -6.9797e+01,  7.6183e+01],\n",
       "          [ 1.9558e+02,  2.3291e+01,  3.6794e+01,  8.1232e+01],\n",
       "          [ 3.5597e+01,  1.5438e+01,  3.0359e+01,  1.0351e+01]],\n",
       " \n",
       "         [[ 5.6641e+02,  0.0000e+00,  0.0000e+00,  5.6641e+02],\n",
       "          [ 5.6641e+02,  0.0000e+00,  0.0000e+00, -5.6641e+02],\n",
       "          [ 3.1836e+02, -3.3715e+01,  6.5458e+01,  2.8328e+02],\n",
       "          [ 1.7928e+02, -1.0315e+01, -1.2789e+01,  4.5986e+01],\n",
       "          [ 4.8536e+02, -8.0987e+00,  1.2996e+01, -4.5342e+02],\n",
       "          [ 1.4981e+02,  5.2129e+01, -6.5665e+01,  1.2415e+02]]]),\n",
       " tensor([nan, nan, nan, nan, nan, nan, nan, nan, nan, nan, nan, nan, nan, nan, nan, nan, nan, nan, nan, nan, nan, nan, nan, nan,\n",
       "         nan, nan, nan, nan, nan, nan, nan, nan, nan, nan, nan, nan, nan, nan, nan, nan, nan, nan, nan, nan, nan, nan, nan, nan,\n",
       "         nan, nan]),\n",
       " tensor([0.0157, 0.1655, 0.1761, 0.0450, 0.0325, 0.1403, 0.0372, 0.0862, 0.0307,\n",
       "         0.0241, 0.1192, 0.0800, 0.0686, 0.0176, 0.0191, 0.0894, 0.1830, 0.2309,\n",
       "         0.0738, 0.0664, 0.2037, 0.1880, 0.0344, 0.3825, 0.0330, 0.0239, 0.0422,\n",
       "         0.4017, 0.1766, 0.1006, 0.0375, 0.0200, 0.0984, 0.0320, 0.0172, 0.0432,\n",
       "         0.2119, 0.0588, 0.0797, 0.0869, 0.1706, 0.2251, 0.0469, 0.0417, 0.1053,\n",
       "         0.0270, 0.0781, 0.2691, 0.0394, 0.1522]),\n",
       " tensor([0.1261, 0.0417, 0.0122, 0.0662, 0.0544, 0.0406, 0.2348, 0.0921, 0.1161,\n",
       "         0.4508, 0.0330, 0.0643, 0.0679, 0.5188, 0.2165, 0.0842, 0.0747, 0.0162,\n",
       "         0.0395, 0.0544, 0.0234, 0.0753, 0.1607, 0.0368, 0.3120, 0.2316, 0.2826,\n",
       "         0.0206, 0.1317, 0.5290, 0.0470, 0.3042, 0.0292, 0.0944, 0.1705, 0.0482,\n",
       "         0.0333, 0.2038, 0.0528, 0.0567, 0.0259, 0.0144, 0.2476, 0.1024, 0.0271,\n",
       "         0.1653, 0.0463, 0.0851, 0.0632, 0.0499]))"
      ]
     },
     "execution_count": 7,
     "metadata": {},
     "output_type": "execute_result"
    }
   ],
   "source": [
    "phasespace.get_momenta_from_ps(ps_target.to(\"cpu\"), requires_grad=False)"
   ]
  },
  {
   "cell_type": "code",
   "execution_count": 10,
   "id": "6ceff289-6b94-4fa3-8f46-40f44b97a20c",
   "metadata": {},
   "outputs": [
    {
     "ename": "NameError",
     "evalue": "name 'momenta_original' is not defined",
     "output_type": "error",
     "traceback": [
      "\u001b[0;31m---------------------------------------------------------------------------\u001b[0m",
      "\u001b[0;31mNameError\u001b[0m                                 Traceback (most recent call last)",
      "Cell \u001b[0;32mIn[10], line 1\u001b[0m\n\u001b[0;32m----> 1\u001b[0m ps, det \u001b[38;5;241m=\u001b[39m phasespace\u001b[38;5;241m.\u001b[39mget_ps_from_momenta( \u001b[43mmomenta_original\u001b[49m[:,\u001b[38;5;241m2\u001b[39m:], x1, x2)\n\u001b[1;32m      2\u001b[0m momenta2, w2, x1_2, x2_2 \u001b[38;5;241m=\u001b[39m phasespace\u001b[38;5;241m.\u001b[39mget_momenta_from_ps(ps, requires_grad\u001b[38;5;241m=\u001b[39m\u001b[38;5;28;01mFalse\u001b[39;00m)\n",
      "\u001b[0;31mNameError\u001b[0m: name 'momenta_original' is not defined"
     ]
    }
   ],
   "source": [
    "ps, det = phasespace.get_ps_from_momenta( momenta_original[:,2:], x1, x2)\n",
    "momenta2, w2, x1_2, x2_2 = phasespace.get_momenta_from_ps(ps, requires_grad=False)"
   ]
  },
  {
   "cell_type": "code",
   "execution_count": 16,
   "id": "2a15cd50-0b62-485a-8b9a-6a7bfa32f019",
   "metadata": {},
   "outputs": [
    {
     "data": {
      "text/plain": [
       "tensor([[7.2403e-01, 6.2960e-01, 5.4712e-03, 5.8954e-01, 1.1799e-02, 9.3013e-01,\n",
       "         4.2256e-03, 3.5464e-01, 5.1755e-01, 4.9916e-01],\n",
       "        [8.8830e-01, 3.7289e-01, 5.6947e-01, 1.2461e-01, 4.1116e-01, 7.9773e-01,\n",
       "         7.0223e-01, 3.0087e-01, 4.5267e-01, 6.5039e-01],\n",
       "        [8.7044e-01, 2.1787e-01, 6.1181e-01, 1.2084e-01, 1.6670e-01, 5.8264e-01,\n",
       "         6.4712e-01, 1.1233e-01, 4.8309e-01, 8.6867e-01],\n",
       "        [8.5308e-01, 6.0578e-01, 4.4914e-01, 6.8941e-01, 6.9473e-01, 5.6003e-01,\n",
       "         9.7224e-01, 1.1248e-01, 7.8703e-01, 7.9103e-01],\n",
       "        [1.8876e-01, 2.0233e-01, 3.1497e-01, 2.6004e-01, 9.8268e-01, 7.5239e-01,\n",
       "         7.6868e-02, 9.5269e-01, 7.8003e-01, 8.6184e-01],\n",
       "        [6.4711e-01, 5.4814e-01, 1.7310e-01, 7.4355e-01, 7.6650e-01, 5.9842e-01,\n",
       "         8.9935e-01, 7.3912e-02, 5.2772e-01, 6.1270e-01],\n",
       "        [2.4138e-01, 8.1281e-01, 7.7817e-01, 2.0851e-01, 2.4693e-01, 7.2074e-01,\n",
       "         9.5644e-01, 4.6784e-01, 8.4791e-01, 5.1081e-01],\n",
       "        [8.0808e-04, 7.3385e-01, 6.4502e-01, 1.4391e-01, 3.4000e-01, 8.6517e-01,\n",
       "         1.7591e-01, 9.1088e-01, 5.7725e-01, 6.5925e-01],\n",
       "        [2.0447e-01, 2.6173e-01, 9.5644e-01, 3.8980e-01, 6.9141e-01, 4.3148e-02,\n",
       "         9.3720e-01, 3.4626e-01, 7.6894e-01, 7.5540e-01],\n",
       "        [9.6103e-01, 4.6543e-01, 6.8439e-01, 3.0703e-01, 2.6189e-01, 8.9714e-02,\n",
       "         2.7128e-01, 3.9006e-01, 8.0757e-01, 4.1433e-01]], device='cuda:0',\n",
       "       grad_fn=<SliceBackward0>)"
      ]
     },
     "execution_count": 16,
     "metadata": {},
     "output_type": "execute_result"
    }
   ],
   "source": [
    "ps_new[0:10]"
   ]
  },
  {
   "cell_type": "code",
   "execution_count": 22,
   "id": "073cc190-1b75-4b96-bc3f-2c0aa1c87194",
   "metadata": {},
   "outputs": [
    {
     "data": {
      "image/png": "[encoded data removed]",
      "text/plain": [
       "<Figure size 640x480 with 1 Axes>"
      ]
     },
     "metadata": {},
     "output_type": "display_data"
    }
   ],
   "source": [
    "plt.hist(torch.log10((ps-ps_new).abs()).flatten().detach().cpu().numpy(), range=(-15,-1), bins=100);"
   ]
  },
  {
   "cell_type": "code",
   "execution_count": 30,
   "id": "9163df8e-9086-44bc-b608-842f69a4cb6d",
   "metadata": {},
   "outputs": [
    {
     "data": {
      "text/plain": [
       "(array([  0.,   0.,   0.,   0.,   0.,   0.,   0.,   0.,   0.,   0.,   0.,\n",
       "          0.,   0.,   0.,   0.,   0.,   0.,   0.,   0.,   1.,   0.,   1.,\n",
       "          2.,   5.,   7.,  11.,  18.,  20.,  38.,  52.,  84.,  87., 139.,\n",
       "        132.,  90.,  66.,  86.,  21.,   0.,   0.,   0.,   0.,   0.,   0.,\n",
       "          0.,   0.,   0.,   0.,   0.,   0.]),\n",
       " array([-14.  , -13.74, -13.48, -13.22, -12.96, -12.7 , -12.44, -12.18,\n",
       "        -11.92, -11.66, -11.4 , -11.14, -10.88, -10.62, -10.36, -10.1 ,\n",
       "         -9.84,  -9.58,  -9.32,  -9.06,  -8.8 ,  -8.54,  -8.28,  -8.02,\n",
       "         -7.76,  -7.5 ,  -7.24,  -6.98,  -6.72,  -6.46,  -6.2 ,  -5.94,\n",
       "         -5.68,  -5.42,  -5.16,  -4.9 ,  -4.64,  -4.38,  -4.12,  -3.86,\n",
       "         -3.6 ,  -3.34,  -3.08,  -2.82,  -2.56,  -2.3 ,  -2.04,  -1.78,\n",
       "         -1.52,  -1.26,  -1.  ]),\n",
       " <BarContainer object of 50 artists>)"
      ]
     },
     "execution_count": 30,
     "metadata": {},
     "output_type": "execute_result"
    },
    {
     "data": {
      "image/png": "[encoded data removed]",
      "text/plain": [
       "<Figure size 640x480 with 1 Axes>"
      ]
     },
     "metadata": {},
     "output_type": "display_data"
    }
   ],
   "source": [
    "plt.hist(torch.log10((momenta - momenta2).abs()).flatten().detach().cpu().numpy(), bins=50, range=(-14, -1))"
   ]
  },
  {
   "cell_type": "code",
   "execution_count": 25,
   "id": "b5c4a55f-9cd1-4287-87af-46fd46d6ccc6",
   "metadata": {},
   "outputs": [
    {
     "data": {
      "text/plain": [
       "tensor([[[ 746.1052,    0.0000,    0.0000,  746.1052],\n",
       "         [ 746.1052,    0.0000,    0.0000, -746.1052],\n",
       "         [ 407.1047,  -48.3384,  -30.4826, -383.1199],\n",
       "         [ 316.5308,   93.8346,  -25.1833, -246.9744],\n",
       "         [ 185.7924,  -31.0314,   39.0065,   47.7296],\n",
       "         [ 582.7825,  -14.4648,   16.6594,  582.3647]],\n",
       "\n",
       "        [[ 554.8355,    0.0000,    0.0000,  554.8355],\n",
       "         [ 554.8355,    0.0000,    0.0000, -554.8355],\n",
       "         [ 235.2217,  139.7626,  139.0786,   27.6629],\n",
       "         [ 448.6156,   35.6823, -405.2854,  -77.2676],\n",
       "         [ 387.6537, -169.1756,  293.6117,   75.4382],\n",
       "         [  38.1800,   -6.2692,  -27.4050,  -25.8336]],\n",
       "\n",
       "        [[ 321.6725,    0.0000,    0.0000,  321.6725],\n",
       "         [ 321.6725,    0.0000,    0.0000, -321.6725],\n",
       "         [ 155.4926,   65.1439,   61.8232,   20.6046],\n",
       "         [ 263.9096, -135.5665,  -90.1413, -115.7078],\n",
       "         [ 213.8888,   76.9742,   35.8185,   93.7240],\n",
       "         [  10.0539,   -6.5515,   -7.5004,    1.3792]]], device='cuda:0',\n",
       "       grad_fn=<SliceBackward0>)"
      ]
     },
     "execution_count": 25,
     "metadata": {},
     "output_type": "execute_result"
    }
   ],
   "source": []
  },
  {
   "cell_type": "code",
   "execution_count": 51,
   "id": "825e37db-9d29-448d-a241-38bf7a5c8306",
   "metadata": {},
   "outputs": [],
   "source": [
    "u = torch.tensor([2,3,4]).repeat(2,1)\n",
    "#u = torch.cat(1"
   ]
  },
  {
   "cell_type": "code",
   "execution_count": 52,
   "id": "d283844c-1ff3-4b18-8e5a-26bc87fcbcdf",
   "metadata": {},
   "outputs": [],
   "source": [
    "u = torch.cat((torch.ones(u.shape[0], 1),u), dim=1)"
   ]
  },
  {
   "cell_type": "code",
   "execution_count": 53,
   "id": "bb25cf67-a35b-4db8-8ab1-24722e3d628a",
   "metadata": {},
   "outputs": [
    {
     "data": {
      "text/plain": [
       "tensor([[1., 2., 3., 4.],\n",
       "        [1., 2., 3., 4.]])"
      ]
     },
     "execution_count": 53,
     "metadata": {},
     "output_type": "execute_result"
    }
   ],
   "source": [
    "u"
   ]
  },
  {
   "cell_type": "code",
   "execution_count": 56,
   "id": "b4a8b08e-7030-4c1c-99e7-70765f1fe99c",
   "metadata": {},
   "outputs": [
    {
     "data": {
      "text/plain": [
       "tensor([[ 1.,  2.,  6., 24.],\n",
       "        [ 1.,  2.,  6., 24.]])"
      ]
     },
     "execution_count": 56,
     "metadata": {},
     "output_type": "execute_result"
    }
   ],
   "source": [
    "torch.cumprod(u, 1)"
   ]
  },
  {
   "cell_type": "code",
   "execution_count": null,
   "id": "c1d905c4-6710-4a50-980d-ff69b0239e70",
   "metadata": {},
   "outputs": [],
   "source": []
  }
 ],
 "metadata": {
  "kernelspec": {
   "display_name": "Python 3 (ipykernel)",
   "language": "python",
   "name": "python3"
  },
  "language_info": {
   "codemirror_mode": {
    "name": "ipython",
    "version": 3
   },
   "file_extension": ".py",
   "mimetype": "text/x-python",
   "name": "python",
   "nbconvert_exporter": "python",
   "pygments_lexer": "ipython3",
   "version": "3.9.17"
  }
 },
 "nbformat": 4,
 "nbformat_minor": 5
}
